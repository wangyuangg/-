{
 "cells": [
  {
   "cell_type": "code",
   "execution_count": 4,
   "id": "initial_id",
   "metadata": {
    "collapsed": true,
    "ExecuteTime": {
     "end_time": "2023-12-10T12:35:09.208777800Z",
     "start_time": "2023-12-10T12:35:09.194908Z"
    }
   },
   "outputs": [],
   "source": [
    "\n"
   ]
  },
  {
   "cell_type": "code",
   "execution_count": 5,
   "outputs": [],
   "source": [
    "# 导入库"
   ],
   "metadata": {
    "collapsed": false,
    "ExecuteTime": {
     "end_time": "2023-12-10T12:35:09.240944800Z",
     "start_time": "2023-12-10T12:35:09.211718100Z"
    }
   },
   "id": "2f1a7316deb4790e"
  },
  {
   "cell_type": "code",
   "execution_count": 6,
   "outputs": [],
   "source": [
    "import numpy as np\n",
    "import pandas as pd\n",
    "from sklearn.model_selection import train_test_split\n",
    "from sklearn.svm import SVC\n",
    "from sklearn.metrics import confusion_matrix"
   ],
   "metadata": {
    "collapsed": false,
    "ExecuteTime": {
     "end_time": "2023-12-10T12:35:10.487038100Z",
     "start_time": "2023-12-10T12:35:09.213791200Z"
    }
   },
   "id": "ac0741d2c46ac16c"
  },
  {
   "cell_type": "code",
   "execution_count": 7,
   "outputs": [],
   "source": [
    "# 读取数据"
   ],
   "metadata": {
    "collapsed": false,
    "ExecuteTime": {
     "end_time": "2023-12-10T12:35:10.497014200Z",
     "start_time": "2023-12-10T12:35:10.487038100Z"
    }
   },
   "id": "af49c71709cca0de"
  },
  {
   "cell_type": "code",
   "execution_count": 8,
   "outputs": [],
   "source": [
    "file_path = \"letter-recognition.data\"\n",
    "columns = ['letter', 'x-box', 'y-box', 'width', 'height', 'onpix', 'x-bar', 'y-bar', 'x2bar', 'y2bar', 'xybar', 'x2ybr', 'xy2br', 'x-ege', 'xegvy', 'y-ege', 'yegvx']\n",
    "data = pd.read_csv(file_path, header=None, names=columns)"
   ],
   "metadata": {
    "collapsed": false,
    "ExecuteTime": {
     "end_time": "2023-12-10T12:35:10.521813300Z",
     "start_time": "2023-12-10T12:35:10.490575600Z"
    }
   },
   "id": "fdf067f5092c12e5"
  },
  {
   "cell_type": "code",
   "execution_count": 9,
   "outputs": [],
   "source": [
    "data['target'] = np.where((data['letter'] == 'E') | (data['letter'] == 'F'), 1, 0)\n"
   ],
   "metadata": {
    "collapsed": false,
    "ExecuteTime": {
     "end_time": "2023-12-10T12:35:10.522832300Z",
     "start_time": "2023-12-10T12:35:10.515485800Z"
    }
   },
   "id": "7c96c3784d7e14bf"
  },
  {
   "cell_type": "code",
   "execution_count": 10,
   "outputs": [],
   "source": [
    "data['target'] = np.where((data['letter'] == 'E') | (data['letter'] == 'F'), 1, 0)"
   ],
   "metadata": {
    "collapsed": false,
    "ExecuteTime": {
     "end_time": "2023-12-10T12:35:10.532648500Z",
     "start_time": "2023-12-10T12:35:10.522832300Z"
    }
   },
   "id": "2060d47a06f1732d"
  },
  {
   "cell_type": "code",
   "execution_count": 11,
   "outputs": [],
   "source": [
    "X = data.drop(['letter', 'target'], axis=1)\n",
    "y = data['target']"
   ],
   "metadata": {
    "collapsed": false,
    "ExecuteTime": {
     "end_time": "2023-12-10T12:35:10.534652100Z",
     "start_time": "2023-12-10T12:35:10.529028100Z"
    }
   },
   "id": "8befe3aedad7376a"
  },
  {
   "cell_type": "code",
   "execution_count": 12,
   "outputs": [],
   "source": [
    "# 划分训练集和测试集"
   ],
   "metadata": {
    "collapsed": false,
    "ExecuteTime": {
     "end_time": "2023-12-10T12:35:10.553778100Z",
     "start_time": "2023-12-10T12:35:10.535653Z"
    }
   },
   "id": "99beb64a5aef9859"
  },
  {
   "cell_type": "code",
   "execution_count": 13,
   "outputs": [],
   "source": [
    "X_train, X_test, y_train, y_test = train_test_split(X, y, test_size=0.3, random_state=1234)"
   ],
   "metadata": {
    "collapsed": false,
    "ExecuteTime": {
     "end_time": "2023-12-10T12:35:10.554265200Z",
     "start_time": "2023-12-10T12:35:10.540735500Z"
    }
   },
   "id": "a8cc6e67a0b1a3bf"
  },
  {
   "cell_type": "code",
   "execution_count": 14,
   "outputs": [],
   "source": [
    "# 建立模型"
   ],
   "metadata": {
    "collapsed": false,
    "ExecuteTime": {
     "end_time": "2023-12-10T12:35:10.554771300Z",
     "start_time": "2023-12-10T12:35:10.548366100Z"
    }
   },
   "id": "b5ff25377d5dd89c"
  },
  {
   "cell_type": "code",
   "execution_count": 15,
   "outputs": [],
   "source": [
    "# 定义要尝试的C值和伽马值\n",
    "C_values = [1, 5, 10]\n",
    "gamma_values = [0.01, 0.05, 0.1]"
   ],
   "metadata": {
    "collapsed": false,
    "ExecuteTime": {
     "end_time": "2023-12-10T12:35:10.557775500Z",
     "start_time": "2023-12-10T12:35:10.552645800Z"
    }
   },
   "id": "131a441ae07deaff"
  },
  {
   "cell_type": "code",
   "execution_count": 16,
   "outputs": [],
   "source": [
    "best_accuracy = 0\n",
    "best_conf_matrix = None\n",
    "best_C = None\n",
    "best_gamma = None"
   ],
   "metadata": {
    "collapsed": false,
    "ExecuteTime": {
     "end_time": "2023-12-10T12:35:10.567942700Z",
     "start_time": "2023-12-10T12:35:10.556773800Z"
    }
   },
   "id": "f2af43430f777c0"
  },
  {
   "cell_type": "code",
   "execution_count": 17,
   "outputs": [],
   "source": [
    "# 循环尝试不同的C值和伽马值"
   ],
   "metadata": {
    "collapsed": false,
    "ExecuteTime": {
     "end_time": "2023-12-10T12:35:10.567942700Z",
     "start_time": "2023-12-10T12:35:10.561461700Z"
    }
   },
   "id": "6bce41f9a460b938"
  },
  {
   "cell_type": "code",
   "execution_count": 18,
   "outputs": [
    {
     "name": "stdout",
     "output_type": "stream",
     "text": [
      "C=1, gamma=0.01, accuracy=0.9685\n",
      "C=1, gamma=0.05, accuracy=0.9908333333333333\n",
      "C=1, gamma=0.1, accuracy=0.9901666666666666\n",
      "C=5, gamma=0.01, accuracy=0.985\n",
      "C=5, gamma=0.05, accuracy=0.9936666666666667\n",
      "C=5, gamma=0.1, accuracy=0.9923333333333333\n",
      "C=10, gamma=0.01, accuracy=0.9873333333333333\n",
      "C=10, gamma=0.05, accuracy=0.9933333333333333\n",
      "C=10, gamma=0.1, accuracy=0.9921666666666666\n"
     ]
    }
   ],
   "source": [
    "for C in C_values:\n",
    "    for gamma in gamma_values:\n",
    "        # 建立SVM模型\n",
    "        svm = SVC(C=C, gamma=gamma, kernel='rbf', random_state=1234)\n",
    "        # 模型拟合\n",
    "        svm.fit(X_train, y_train)\n",
    "        # 模型在测试集上的预测\n",
    "        y_pred = svm.predict(X_test)\n",
    "        # 模型评估\n",
    "        conf_matrix = confusion_matrix(y_test, y_pred)\n",
    "        accuracy = np.sum(np.diag(conf_matrix)) / np.sum(conf_matrix)\n",
    "        # 打印模型的准确率\n",
    "        print('C={0}, gamma={1}, accuracy={2}'.format(C, gamma, accuracy))\n",
    "        # 保存最好的模型\n",
    "        if accuracy > best_accuracy:\n",
    "            best_accuracy = accuracy\n",
    "            best_conf_matrix = conf_matrix\n",
    "            best_C = C\n",
    "            best_gamma = gamma"
   ],
   "metadata": {
    "collapsed": false,
    "ExecuteTime": {
     "end_time": "2023-12-10T12:35:31.439050600Z",
     "start_time": "2023-12-10T12:35:10.566852700Z"
    }
   },
   "id": "360a82f7b9696ffb"
  },
  {
   "cell_type": "code",
   "execution_count": 19,
   "outputs": [],
   "source": [
    "# 打印最好的模型"
   ],
   "metadata": {
    "collapsed": false,
    "ExecuteTime": {
     "end_time": "2023-12-10T12:35:31.449358900Z",
     "start_time": "2023-12-10T12:35:31.440050Z"
    }
   },
   "id": "d7e6c17bbee3e7ae"
  },
  {
   "cell_type": "code",
   "execution_count": 20,
   "outputs": [
    {
     "name": "stdout",
     "output_type": "stream",
     "text": [
      "最好的模型的准确率为：0.9936666666666667\n"
     ]
    }
   ],
   "source": [
    "print('最好的模型的准确率为：{0}'.format(best_accuracy))"
   ],
   "metadata": {
    "collapsed": false,
    "ExecuteTime": {
     "end_time": "2023-12-10T12:35:31.449859300Z",
     "start_time": "2023-12-10T12:35:31.443122600Z"
    }
   },
   "id": "e2f316d136308c6"
  },
  {
   "cell_type": "code",
   "execution_count": 21,
   "outputs": [],
   "source": [
    "# 打印最好的模型的混淆矩阵"
   ],
   "metadata": {
    "collapsed": false,
    "ExecuteTime": {
     "end_time": "2023-12-10T12:35:31.460928600Z",
     "start_time": "2023-12-10T12:35:31.448257400Z"
    }
   },
   "id": "4ecbe6714a40ca31"
  },
  {
   "cell_type": "code",
   "execution_count": 22,
   "outputs": [
    {
     "name": "stdout",
     "output_type": "stream",
     "text": [
      "最好的模型的混淆矩阵为：\n",
      "[[5525   12]\n",
      " [  26  437]]\n"
     ]
    }
   ],
   "source": [
    "print('最好的模型的混淆矩阵为：\\n{0}'.format(best_conf_matrix))"
   ],
   "metadata": {
    "collapsed": false,
    "ExecuteTime": {
     "end_time": "2023-12-10T12:35:31.461831100Z",
     "start_time": "2023-12-10T12:35:31.453336900Z"
    }
   },
   "id": "30b5fd2d07417ec5"
  },
  {
   "cell_type": "code",
   "execution_count": 22,
   "outputs": [],
   "source": [],
   "metadata": {
    "collapsed": false,
    "ExecuteTime": {
     "end_time": "2023-12-10T12:35:31.486041100Z",
     "start_time": "2023-12-10T12:35:31.457254200Z"
    }
   },
   "id": "920e30657520e4d2"
  },
  {
   "cell_type": "code",
   "execution_count": 23,
   "outputs": [],
   "source": [
    "# 模型评估"
   ],
   "metadata": {
    "collapsed": false,
    "ExecuteTime": {
     "end_time": "2023-12-10T12:35:31.488041700Z",
     "start_time": "2023-12-10T12:35:31.461324Z"
    }
   },
   "id": "3143333b84f77d2d"
  },
  {
   "cell_type": "code",
   "execution_count": 23,
   "outputs": [],
   "source": [],
   "metadata": {
    "collapsed": false,
    "ExecuteTime": {
     "end_time": "2023-12-10T12:35:31.488041700Z",
     "start_time": "2023-12-10T12:35:31.464011400Z"
    }
   },
   "id": "35f8b99b75bbef29"
  }
 ],
 "metadata": {
  "kernelspec": {
   "display_name": "Python 3",
   "language": "python",
   "name": "python3"
  },
  "language_info": {
   "codemirror_mode": {
    "name": "ipython",
    "version": 2
   },
   "file_extension": ".py",
   "mimetype": "text/x-python",
   "name": "python",
   "nbconvert_exporter": "python",
   "pygments_lexer": "ipython2",
   "version": "2.7.6"
  }
 },
 "nbformat": 4,
 "nbformat_minor": 5
}
