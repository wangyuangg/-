{
 "cells": [
  {
   "cell_type": "code",
   "execution_count": 122,
   "id": "initial_id",
   "metadata": {
    "collapsed": true,
    "ExecuteTime": {
     "end_time": "2023-12-09T16:37:41.905575500Z",
     "start_time": "2023-12-09T16:37:41.883480300Z"
    }
   },
   "outputs": [],
   "source": [
    "import numpy as np"
   ]
  },
  {
   "cell_type": "code",
   "execution_count": 123,
   "outputs": [],
   "source": [
    "dataset = np.genfromtxt('housing.data',dtype=np.float_)"
   ],
   "metadata": {
    "collapsed": false,
    "ExecuteTime": {
     "end_time": "2023-12-09T16:37:41.944062300Z",
     "start_time": "2023-12-09T16:37:41.908117800Z"
    }
   },
   "id": "4cb04b930828ad02"
  },
  {
   "cell_type": "code",
   "execution_count": 124,
   "outputs": [
    {
     "data": {
      "text/plain": "array([[6.3200e-03, 1.8000e+01, 2.3100e+00, ..., 3.9690e+02, 4.9800e+00,\n        2.4000e+01],\n       [2.7310e-02, 0.0000e+00, 7.0700e+00, ..., 3.9690e+02, 9.1400e+00,\n        2.1600e+01],\n       [2.7290e-02, 0.0000e+00, 7.0700e+00, ..., 3.9283e+02, 4.0300e+00,\n        3.4700e+01],\n       ...,\n       [6.0760e-02, 0.0000e+00, 1.1930e+01, ..., 3.9690e+02, 5.6400e+00,\n        2.3900e+01],\n       [1.0959e-01, 0.0000e+00, 1.1930e+01, ..., 3.9345e+02, 6.4800e+00,\n        2.2000e+01],\n       [4.7410e-02, 0.0000e+00, 1.1930e+01, ..., 3.9690e+02, 7.8800e+00,\n        1.1900e+01]])"
     },
     "execution_count": 124,
     "metadata": {},
     "output_type": "execute_result"
    }
   ],
   "source": [
    "dataset"
   ],
   "metadata": {
    "collapsed": false,
    "ExecuteTime": {
     "end_time": "2023-12-09T16:37:41.962575700Z",
     "start_time": "2023-12-09T16:37:41.946055900Z"
    }
   },
   "id": "289c93377806d7ef"
  },
  {
   "cell_type": "code",
   "execution_count": 125,
   "outputs": [],
   "source": [
    "X=dataset[:,:-1]#all rows and all columns except last one"
   ],
   "metadata": {
    "collapsed": false,
    "ExecuteTime": {
     "end_time": "2023-12-09T16:37:42.000124900Z",
     "start_time": "2023-12-09T16:37:41.965995500Z"
    }
   },
   "id": "4311723b3cd2d69a"
  },
  {
   "cell_type": "code",
   "execution_count": 126,
   "outputs": [],
   "source": [
    "y=dataset[:,-1]#all rows and last column"
   ],
   "metadata": {
    "collapsed": false,
    "ExecuteTime": {
     "end_time": "2023-12-09T16:37:42.013207600Z",
     "start_time": "2023-12-09T16:37:41.969531500Z"
    }
   },
   "id": "ecd7835dff6f7797"
  },
  {
   "cell_type": "code",
   "execution_count": 127,
   "outputs": [],
   "source": [
    "from sklearn.tree import DecisionTreeRegressor#regression tree"
   ],
   "metadata": {
    "collapsed": false,
    "ExecuteTime": {
     "end_time": "2023-12-09T16:37:42.015251400Z",
     "start_time": "2023-12-09T16:37:41.984672Z"
    }
   },
   "id": "14c766c8f5a339c3"
  },
  {
   "cell_type": "code",
   "execution_count": 128,
   "outputs": [],
   "source": [
    "regressor=DecisionTreeRegressor(max_depth=4,random_state=0)"
   ],
   "metadata": {
    "collapsed": false,
    "ExecuteTime": {
     "end_time": "2023-12-09T16:37:42.035713500Z",
     "start_time": "2023-12-09T16:37:42.018823100Z"
    }
   },
   "id": "d9655c43438219b4"
  },
  {
   "cell_type": "code",
   "execution_count": 129,
   "outputs": [],
   "source": [
    "from sklearn.model_selection import train_test_split"
   ],
   "metadata": {
    "collapsed": false,
    "ExecuteTime": {
     "end_time": "2023-12-09T16:37:42.057482400Z",
     "start_time": "2023-12-09T16:37:42.037999Z"
    }
   },
   "id": "ec469d18ff0ae41e"
  },
  {
   "cell_type": "code",
   "execution_count": 130,
   "outputs": [],
   "source": [
    "X_train,X_test,y_train,y_test=train_test_split(X,y,test_size=0.4,random_state=0)"
   ],
   "metadata": {
    "collapsed": false,
    "ExecuteTime": {
     "end_time": "2023-12-09T16:37:42.058479100Z",
     "start_time": "2023-12-09T16:37:42.041984800Z"
    }
   },
   "id": "70fa8e8b768bc9da"
  },
  {
   "cell_type": "code",
   "execution_count": 131,
   "outputs": [
    {
     "data": {
      "text/plain": "DecisionTreeRegressor(max_depth=4, random_state=0)",
      "text/html": "<style>#sk-container-id-5 {color: black;}#sk-container-id-5 pre{padding: 0;}#sk-container-id-5 div.sk-toggleable {background-color: white;}#sk-container-id-5 label.sk-toggleable__label {cursor: pointer;display: block;width: 100%;margin-bottom: 0;padding: 0.3em;box-sizing: border-box;text-align: center;}#sk-container-id-5 label.sk-toggleable__label-arrow:before {content: \"▸\";float: left;margin-right: 0.25em;color: #696969;}#sk-container-id-5 label.sk-toggleable__label-arrow:hover:before {color: black;}#sk-container-id-5 div.sk-estimator:hover label.sk-toggleable__label-arrow:before {color: black;}#sk-container-id-5 div.sk-toggleable__content {max-height: 0;max-width: 0;overflow: hidden;text-align: left;background-color: #f0f8ff;}#sk-container-id-5 div.sk-toggleable__content pre {margin: 0.2em;color: black;border-radius: 0.25em;background-color: #f0f8ff;}#sk-container-id-5 input.sk-toggleable__control:checked~div.sk-toggleable__content {max-height: 200px;max-width: 100%;overflow: auto;}#sk-container-id-5 input.sk-toggleable__control:checked~label.sk-toggleable__label-arrow:before {content: \"▾\";}#sk-container-id-5 div.sk-estimator input.sk-toggleable__control:checked~label.sk-toggleable__label {background-color: #d4ebff;}#sk-container-id-5 div.sk-label input.sk-toggleable__control:checked~label.sk-toggleable__label {background-color: #d4ebff;}#sk-container-id-5 input.sk-hidden--visually {border: 0;clip: rect(1px 1px 1px 1px);clip: rect(1px, 1px, 1px, 1px);height: 1px;margin: -1px;overflow: hidden;padding: 0;position: absolute;width: 1px;}#sk-container-id-5 div.sk-estimator {font-family: monospace;background-color: #f0f8ff;border: 1px dotted black;border-radius: 0.25em;box-sizing: border-box;margin-bottom: 0.5em;}#sk-container-id-5 div.sk-estimator:hover {background-color: #d4ebff;}#sk-container-id-5 div.sk-parallel-item::after {content: \"\";width: 100%;border-bottom: 1px solid gray;flex-grow: 1;}#sk-container-id-5 div.sk-label:hover label.sk-toggleable__label {background-color: #d4ebff;}#sk-container-id-5 div.sk-serial::before {content: \"\";position: absolute;border-left: 1px solid gray;box-sizing: border-box;top: 0;bottom: 0;left: 50%;z-index: 0;}#sk-container-id-5 div.sk-serial {display: flex;flex-direction: column;align-items: center;background-color: white;padding-right: 0.2em;padding-left: 0.2em;position: relative;}#sk-container-id-5 div.sk-item {position: relative;z-index: 1;}#sk-container-id-5 div.sk-parallel {display: flex;align-items: stretch;justify-content: center;background-color: white;position: relative;}#sk-container-id-5 div.sk-item::before, #sk-container-id-5 div.sk-parallel-item::before {content: \"\";position: absolute;border-left: 1px solid gray;box-sizing: border-box;top: 0;bottom: 0;left: 50%;z-index: -1;}#sk-container-id-5 div.sk-parallel-item {display: flex;flex-direction: column;z-index: 1;position: relative;background-color: white;}#sk-container-id-5 div.sk-parallel-item:first-child::after {align-self: flex-end;width: 50%;}#sk-container-id-5 div.sk-parallel-item:last-child::after {align-self: flex-start;width: 50%;}#sk-container-id-5 div.sk-parallel-item:only-child::after {width: 0;}#sk-container-id-5 div.sk-dashed-wrapped {border: 1px dashed gray;margin: 0 0.4em 0.5em 0.4em;box-sizing: border-box;padding-bottom: 0.4em;background-color: white;}#sk-container-id-5 div.sk-label label {font-family: monospace;font-weight: bold;display: inline-block;line-height: 1.2em;}#sk-container-id-5 div.sk-label-container {text-align: center;}#sk-container-id-5 div.sk-container {/* jupyter's `normalize.less` sets `[hidden] { display: none; }` but bootstrap.min.css set `[hidden] { display: none !important; }` so we also need the `!important` here to be able to override the default hidden behavior on the sphinx rendered scikit-learn.org. See: https://github.com/scikit-learn/scikit-learn/issues/21755 */display: inline-block !important;position: relative;}#sk-container-id-5 div.sk-text-repr-fallback {display: none;}</style><div id=\"sk-container-id-5\" class=\"sk-top-container\"><div class=\"sk-text-repr-fallback\"><pre>DecisionTreeRegressor(max_depth=4, random_state=0)</pre><b>In a Jupyter environment, please rerun this cell to show the HTML representation or trust the notebook. <br />On GitHub, the HTML representation is unable to render, please try loading this page with nbviewer.org.</b></div><div class=\"sk-container\" hidden><div class=\"sk-item\"><div class=\"sk-estimator sk-toggleable\"><input class=\"sk-toggleable__control sk-hidden--visually\" id=\"sk-estimator-id-5\" type=\"checkbox\" checked><label for=\"sk-estimator-id-5\" class=\"sk-toggleable__label sk-toggleable__label-arrow\">DecisionTreeRegressor</label><div class=\"sk-toggleable__content\"><pre>DecisionTreeRegressor(max_depth=4, random_state=0)</pre></div></div></div></div></div>"
     },
     "execution_count": 131,
     "metadata": {},
     "output_type": "execute_result"
    }
   ],
   "source": [
    "regressor.fit(X_train,y_train)"
   ],
   "metadata": {
    "collapsed": false,
    "ExecuteTime": {
     "end_time": "2023-12-09T16:37:42.075192800Z",
     "start_time": "2023-12-09T16:37:42.056485900Z"
    }
   },
   "id": "7e166b0d6c0096d"
  },
  {
   "cell_type": "code",
   "execution_count": 132,
   "outputs": [],
   "source": [
    "y_pred=regressor.predict(X_test)"
   ],
   "metadata": {
    "collapsed": false,
    "ExecuteTime": {
     "end_time": "2023-12-09T16:37:42.077244100Z",
     "start_time": "2023-12-09T16:37:42.062578700Z"
    }
   },
   "id": "89e1882acb672241"
  },
  {
   "cell_type": "code",
   "execution_count": 133,
   "outputs": [],
   "source": [
    "from sklearn.metrics import mean_squared_error"
   ],
   "metadata": {
    "collapsed": false,
    "ExecuteTime": {
     "end_time": "2023-12-09T16:37:42.078259400Z",
     "start_time": "2023-12-09T16:37:42.068094700Z"
    }
   },
   "id": "3682b3649a138b73"
  },
  {
   "cell_type": "code",
   "execution_count": 134,
   "outputs": [],
   "source": [
    "mse = mean_squared_error(y_test,y_pred)"
   ],
   "metadata": {
    "collapsed": false,
    "ExecuteTime": {
     "end_time": "2023-12-09T16:37:42.099937200Z",
     "start_time": "2023-12-09T16:37:42.080252Z"
    }
   },
   "id": "e89a6e94a913203b"
  },
  {
   "cell_type": "code",
   "execution_count": 135,
   "outputs": [
    {
     "data": {
      "text/plain": "15.279743835776737"
     },
     "execution_count": 135,
     "metadata": {},
     "output_type": "execute_result"
    }
   ],
   "source": [
    "mse"
   ],
   "metadata": {
    "collapsed": false,
    "ExecuteTime": {
     "end_time": "2023-12-09T16:37:42.161788200Z",
     "start_time": "2023-12-09T16:37:42.101930300Z"
    }
   },
   "id": "d381b37c864a1e74"
  },
  {
   "cell_type": "code",
   "execution_count": 136,
   "outputs": [],
   "source": [
    "from sklearn.metrics import mean_absolute_error\n",
    "\n",
    "mae = mean_absolute_error(y_test,y_pred)"
   ],
   "metadata": {
    "collapsed": false,
    "ExecuteTime": {
     "end_time": "2023-12-09T16:37:42.162784900Z",
     "start_time": "2023-12-09T16:37:42.107213100Z"
    }
   },
   "id": "e0012aaba96c63b0"
  },
  {
   "cell_type": "code",
   "execution_count": 137,
   "outputs": [
    {
     "data": {
      "text/plain": "2.881796179455369"
     },
     "execution_count": 137,
     "metadata": {},
     "output_type": "execute_result"
    }
   ],
   "source": [
    "mae"
   ],
   "metadata": {
    "collapsed": false,
    "ExecuteTime": {
     "end_time": "2023-12-09T16:37:42.164778500Z",
     "start_time": "2023-12-09T16:37:42.128217Z"
    }
   },
   "id": "c12aa0a8aaa60a3"
  },
  {
   "cell_type": "code",
   "execution_count": 138,
   "outputs": [],
   "source": [
    "#生成决策树图的dot文本、决策树可视图、决策树图的PDF格式文件"
   ],
   "metadata": {
    "collapsed": false,
    "ExecuteTime": {
     "end_time": "2023-12-09T16:37:42.179632800Z",
     "start_time": "2023-12-09T16:37:42.169167400Z"
    }
   },
   "id": "75862d35bcbfb155"
  },
  {
   "cell_type": "code",
   "execution_count": 139,
   "outputs": [],
   "source": [
    "from sklearn import tree"
   ],
   "metadata": {
    "collapsed": false,
    "ExecuteTime": {
     "end_time": "2023-12-09T16:37:42.212441800Z",
     "start_time": "2023-12-09T16:37:42.182560600Z"
    }
   },
   "id": "580dd93a1dd667fc"
  },
  {
   "cell_type": "code",
   "execution_count": 140,
   "outputs": [],
   "source": [
    "from sklearn import tree"
   ],
   "metadata": {
    "collapsed": false,
    "ExecuteTime": {
     "end_time": "2023-12-09T16:37:42.230034100Z",
     "start_time": "2023-12-09T16:37:42.215286100Z"
    }
   },
   "id": "9316fa3507b5057d"
  },
  {
   "cell_type": "code",
   "execution_count": 141,
   "outputs": [
    {
     "data": {
      "text/plain": "[Text(0.45689655172413796, 0.9, 'x[12] <= 9.63\\nsquared_error = 85.437\\nsamples = 303\\nvalue = 22.747'),\n Text(0.1896551724137931, 0.7, 'x[5] <= 7.011\\nsquared_error = 76.564\\nsamples = 126\\nvalue = 30.274'),\n Text(0.06896551724137931, 0.5, 'x[7] <= 1.485\\nsquared_error = 30.114\\nsamples = 88\\nvalue = 26.241'),\n Text(0.034482758620689655, 0.3, 'squared_error = 0.0\\nsamples = 2\\nvalue = 50.0'),\n Text(0.10344827586206896, 0.3, 'x[5] <= 6.587\\nsquared_error = 17.381\\nsamples = 86\\nvalue = 25.688'),\n Text(0.06896551724137931, 0.1, 'squared_error = 8.047\\nsamples = 53\\nvalue = 23.475'),\n Text(0.13793103448275862, 0.1, 'squared_error = 11.876\\nsamples = 33\\nvalue = 29.242'),\n Text(0.3103448275862069, 0.5, 'x[5] <= 7.435\\nsquared_error = 59.243\\nsamples = 38\\nvalue = 39.613'),\n Text(0.2413793103448276, 0.3, 'x[0] <= 6.135\\nsquared_error = 21.451\\nsamples = 19\\nvalue = 34.716'),\n Text(0.20689655172413793, 0.1, 'squared_error = 8.943\\nsamples = 18\\nvalue = 33.867'),\n Text(0.27586206896551724, 0.1, 'squared_error = 0.0\\nsamples = 1\\nvalue = 50.0'),\n Text(0.3793103448275862, 0.3, 'x[10] <= 18.3\\nsquared_error = 49.066\\nsamples = 19\\nvalue = 44.511'),\n Text(0.3448275862068966, 0.1, 'squared_error = 16.141\\nsamples = 17\\nvalue = 46.388'),\n Text(0.41379310344827586, 0.1, 'squared_error = 44.223\\nsamples = 2\\nvalue = 28.55'),\n Text(0.7241379310344828, 0.7, 'x[12] <= 15.0\\nsquared_error = 22.708\\nsamples = 177\\nvalue = 17.388'),\n Text(0.5862068965517241, 0.5, 'x[10] <= 18.0\\nsquared_error = 8.773\\nsamples = 79\\nvalue = 20.908'),\n Text(0.5172413793103449, 0.3, 'x[9] <= 309.0\\nsquared_error = 12.465\\nsamples = 28\\nvalue = 22.55'),\n Text(0.4827586206896552, 0.1, 'squared_error = 10.905\\nsamples = 13\\nvalue = 24.731'),\n Text(0.5517241379310345, 0.1, 'squared_error = 6.124\\nsamples = 15\\nvalue = 20.66'),\n Text(0.6551724137931034, 0.3, 'x[6] <= 97.8\\nsquared_error = 4.452\\nsamples = 51\\nvalue = 20.006'),\n Text(0.6206896551724138, 0.1, 'squared_error = 3.508\\nsamples = 48\\nvalue = 20.242'),\n Text(0.6896551724137931, 0.1, 'squared_error = 4.442\\nsamples = 3\\nvalue = 16.233'),\n Text(0.8620689655172413, 0.5, 'x[0] <= 5.769\\nsquared_error = 15.906\\nsamples = 98\\nvalue = 14.551'),\n Text(0.7931034482758621, 0.3, 'x[4] <= 0.531\\nsquared_error = 10.899\\nsamples = 52\\nvalue = 16.592'),\n Text(0.7586206896551724, 0.1, 'squared_error = 6.69\\nsamples = 11\\nvalue = 19.855'),\n Text(0.8275862068965517, 0.1, 'squared_error = 8.407\\nsamples = 41\\nvalue = 15.717'),\n Text(0.9310344827586207, 0.3, 'x[12] <= 20.195\\nsquared_error = 11.531\\nsamples = 46\\nvalue = 12.243'),\n Text(0.896551724137931, 0.1, 'squared_error = 6.959\\nsamples = 23\\nvalue = 14.057'),\n Text(0.9655172413793104, 0.1, 'squared_error = 9.528\\nsamples = 23\\nvalue = 10.43')]"
     },
     "execution_count": 141,
     "metadata": {},
     "output_type": "execute_result"
    },
    {
     "data": {
      "text/plain": "<Figure size 640x480 with 1 Axes>",
      "image/png": "[encoded data removed]"
     },
     "metadata": {},
     "output_type": "display_data"
    }
   ],
   "source": [
    "tree.plot_tree(regressor)"
   ],
   "metadata": {
    "collapsed": false,
    "ExecuteTime": {
     "end_time": "2023-12-09T16:37:42.984064300Z",
     "start_time": "2023-12-09T16:37:42.232558100Z"
    }
   },
   "id": "c91135f959a9ec18"
  },
  {
   "cell_type": "code",
   "execution_count": 142,
   "outputs": [],
   "source": [
    "from sklearn.tree import export_graphviz"
   ],
   "metadata": {
    "collapsed": false,
    "ExecuteTime": {
     "end_time": "2023-12-09T16:37:42.985060Z",
     "start_time": "2023-12-09T16:37:42.982560400Z"
    }
   },
   "id": "61e13f5c2603d491"
  },
  {
   "cell_type": "code",
   "execution_count": 143,
   "outputs": [],
   "source": [
    "housing_dot=export_graphviz(regressor,out_file=None,feature_names=['CRIM','ZN','INDUS','CHAS','NOX','RM','AGE','DIS','RAD','TAX','PTRATIO','B','LSTAT'],filled=True,rounded=True,special_characters=True)"
   ],
   "metadata": {
    "collapsed": false,
    "ExecuteTime": {
     "end_time": "2023-12-09T16:37:42.994851900Z",
     "start_time": "2023-12-09T16:37:42.985060Z"
    }
   },
   "id": "51c50c166baf78f7"
  },
  {
   "cell_type": "code",
   "execution_count": 144,
   "outputs": [],
   "source": [
    "#生成决策树图的dot文本、决策树可视图、决策树图的PDF格式文件"
   ],
   "metadata": {
    "collapsed": false,
    "ExecuteTime": {
     "end_time": "2023-12-09T16:37:42.997831900Z",
     "start_time": "2023-12-09T16:37:42.993856200Z"
    }
   },
   "id": "b02914711305e6f9"
  },
  {
   "cell_type": "code",
   "execution_count": 145,
   "outputs": [],
   "source": [
    "import graphviz"
   ],
   "metadata": {
    "collapsed": false,
    "ExecuteTime": {
     "end_time": "2023-12-09T16:37:43.009738200Z",
     "start_time": "2023-12-09T16:37:42.997831900Z"
    }
   },
   "id": "ae1362832abc17b3"
  },
  {
   "cell_type": "code",
   "execution_count": 146,
   "outputs": [],
   "source": [
    "graph_car=graphviz.Source(housing_dot)"
   ],
   "metadata": {
    "collapsed": false,
    "ExecuteTime": {
     "end_time": "2023-12-09T16:37:43.055093600Z",
     "start_time": "2023-12-09T16:37:43.003229300Z"
    }
   },
   "id": "f70a7122b5dd95a6"
  },
  {
   "cell_type": "code",
   "execution_count": 147,
   "outputs": [
    {
     "data": {
      "image/svg+xml": "<?xml version=\"1.0\" encoding=\"UTF-8\" standalone=\"no\"?>\n<!DOCTYPE svg PUBLIC \"-//W3C//DTD SVG 1.1//EN\"\n \"http://www.w3.org/Graphics/SVG/1.1/DTD/svg11.dtd\">\n<!-- Generated by graphviz version 2.50.0 (0)\n -->\n<!-- Title: Tree Pages: 1 -->\n<svg width=\"2363pt\" height=\"477pt\"\n viewBox=\"0.00 0.00 2363.00 477.00\" xmlns=\"http://www.w3.org/2000/svg\" xmlns:xlink=\"http://www.w3.org/1999/xlink\">\n<g id=\"graph0\" class=\"graph\" transform=\"scale(1 1) rotate(0) translate(4 473)\">\n<title>Tree</title>\n<polygon fill=\"white\" stroke=\"transparent\" points=\"-4,4 -4,-473 2359,-473 2359,4 -4,4\"/>\n<!-- 0 -->\n<g id=\"node1\" class=\"node\">\n<title>0</title>\n<path fill=\"#f7d8c1\" stroke=\"black\" d=\"M1076.5,-469C1076.5,-469 942.5,-469 942.5,-469 936.5,-469 930.5,-463 930.5,-457 930.5,-457 930.5,-413 930.5,-413 930.5,-407 936.5,-401 942.5,-401 942.5,-401 1076.5,-401 1076.5,-401 1082.5,-401 1088.5,-407 1088.5,-413 1088.5,-413 1088.5,-457 1088.5,-457 1088.5,-463 1082.5,-469 1076.5,-469\"/>\n<text text-anchor=\"start\" x=\"968.5\" y=\"-453.8\" font-family=\"Helvetica,sans-Serif\" font-size=\"14.00\">LSTAT ≤ 9.63</text>\n<text text-anchor=\"start\" x=\"938.5\" y=\"-438.8\" font-family=\"Helvetica,sans-Serif\" font-size=\"14.00\">squared_error = 85.437</text>\n<text text-anchor=\"start\" x=\"964.5\" y=\"-423.8\" font-family=\"Helvetica,sans-Serif\" font-size=\"14.00\">samples = 303</text>\n<text text-anchor=\"start\" x=\"964.5\" y=\"-408.8\" font-family=\"Helvetica,sans-Serif\" font-size=\"14.00\">value = 22.747</text>\n</g>\n<!-- 1 -->\n<g id=\"node2\" class=\"node\">\n<title>1</title>\n<path fill=\"#f2c09c\" stroke=\"black\" d=\"M733.5,-365C733.5,-365 599.5,-365 599.5,-365 593.5,-365 587.5,-359 587.5,-353 587.5,-353 587.5,-309 587.5,-309 587.5,-303 593.5,-297 599.5,-297 599.5,-297 733.5,-297 733.5,-297 739.5,-297 745.5,-303 745.5,-309 745.5,-309 745.5,-353 745.5,-353 745.5,-359 739.5,-365 733.5,-365\"/>\n<text text-anchor=\"start\" x=\"631.5\" y=\"-349.8\" font-family=\"Helvetica,sans-Serif\" font-size=\"14.00\">RM ≤ 7.011</text>\n<text text-anchor=\"start\" x=\"595.5\" y=\"-334.8\" font-family=\"Helvetica,sans-Serif\" font-size=\"14.00\">squared_error = 76.564</text>\n<text text-anchor=\"start\" x=\"621.5\" y=\"-319.8\" font-family=\"Helvetica,sans-Serif\" font-size=\"14.00\">samples = 126</text>\n<text text-anchor=\"start\" x=\"621.5\" y=\"-304.8\" font-family=\"Helvetica,sans-Serif\" font-size=\"14.00\">value = 30.274</text>\n</g>\n<!-- 0&#45;&gt;1 -->\n<g id=\"edge1\" class=\"edge\">\n<title>0&#45;&gt;1</title>\n<path fill=\"none\" stroke=\"black\" d=\"M930.38,-410.47C878.03,-394.9 809.3,-374.47 755.12,-358.35\"/>\n<polygon fill=\"black\" stroke=\"black\" points=\"756.1,-354.99 745.52,-355.5 754.11,-361.7 756.1,-354.99\"/>\n<text text-anchor=\"middle\" x=\"757.43\" y=\"-373.78\" font-family=\"Helvetica,sans-Serif\" font-size=\"14.00\">True</text>\n</g>\n<!-- 14 -->\n<g id=\"node15\" class=\"node\">\n<title>14</title>\n<path fill=\"#fae9dc\" stroke=\"black\" d=\"M1424.5,-365C1424.5,-365 1290.5,-365 1290.5,-365 1284.5,-365 1278.5,-359 1278.5,-353 1278.5,-353 1278.5,-309 1278.5,-309 1278.5,-303 1284.5,-297 1290.5,-297 1290.5,-297 1424.5,-297 1424.5,-297 1430.5,-297 1436.5,-303 1436.5,-309 1436.5,-309 1436.5,-353 1436.5,-353 1436.5,-359 1430.5,-365 1424.5,-365\"/>\n<text text-anchor=\"start\" x=\"1316.5\" y=\"-349.8\" font-family=\"Helvetica,sans-Serif\" font-size=\"14.00\">LSTAT ≤ 15.0</text>\n<text text-anchor=\"start\" x=\"1286.5\" y=\"-334.8\" font-family=\"Helvetica,sans-Serif\" font-size=\"14.00\">squared_error = 22.708</text>\n<text text-anchor=\"start\" x=\"1312.5\" y=\"-319.8\" font-family=\"Helvetica,sans-Serif\" font-size=\"14.00\">samples = 177</text>\n<text text-anchor=\"start\" x=\"1312.5\" y=\"-304.8\" font-family=\"Helvetica,sans-Serif\" font-size=\"14.00\">value = 17.388</text>\n</g>\n<!-- 0&#45;&gt;14 -->\n<g id=\"edge14\" class=\"edge\">\n<title>0&#45;&gt;14</title>\n<path fill=\"none\" stroke=\"black\" d=\"M1088.9,-410.73C1142.46,-395.03 1213.19,-374.3 1268.63,-358.05\"/>\n<polygon fill=\"black\" stroke=\"black\" points=\"1269.83,-361.34 1278.44,-355.17 1267.86,-354.63 1269.83,-361.34\"/>\n<text text-anchor=\"middle\" x=\"1266.45\" y=\"-373.41\" font-family=\"Helvetica,sans-Serif\" font-size=\"14.00\">False</text>\n</g>\n<!-- 2 -->\n<g id=\"node3\" class=\"node\">\n<title>2</title>\n<path fill=\"#f5cdb0\" stroke=\"black\" d=\"M315.5,-261C315.5,-261 181.5,-261 181.5,-261 175.5,-261 169.5,-255 169.5,-249 169.5,-249 169.5,-205 169.5,-205 169.5,-199 175.5,-193 181.5,-193 181.5,-193 315.5,-193 315.5,-193 321.5,-193 327.5,-199 327.5,-205 327.5,-205 327.5,-249 327.5,-249 327.5,-255 321.5,-261 315.5,-261\"/>\n<text text-anchor=\"start\" x=\"212.5\" y=\"-245.8\" font-family=\"Helvetica,sans-Serif\" font-size=\"14.00\">DIS ≤ 1.485</text>\n<text text-anchor=\"start\" x=\"177.5\" y=\"-230.8\" font-family=\"Helvetica,sans-Serif\" font-size=\"14.00\">squared_error = 30.114</text>\n<text text-anchor=\"start\" x=\"207.5\" y=\"-215.8\" font-family=\"Helvetica,sans-Serif\" font-size=\"14.00\">samples = 88</text>\n<text text-anchor=\"start\" x=\"203.5\" y=\"-200.8\" font-family=\"Helvetica,sans-Serif\" font-size=\"14.00\">value = 26.241</text>\n</g>\n<!-- 1&#45;&gt;2 -->\n<g id=\"edge2\" class=\"edge\">\n<title>1&#45;&gt;2</title>\n<path fill=\"none\" stroke=\"black\" d=\"M587.39,-310.69C516.15,-293.31 411.55,-267.79 337.44,-249.7\"/>\n<polygon fill=\"black\" stroke=\"black\" points=\"338.19,-246.28 327.65,-247.31 336.53,-253.08 338.19,-246.28\"/>\n</g>\n<!-- 7 -->\n<g id=\"node8\" class=\"node\">\n<title>7</title>\n<path fill=\"#eca26d\" stroke=\"black\" d=\"M733.5,-261C733.5,-261 599.5,-261 599.5,-261 593.5,-261 587.5,-255 587.5,-249 587.5,-249 587.5,-205 587.5,-205 587.5,-199 593.5,-193 599.5,-193 599.5,-193 733.5,-193 733.5,-193 739.5,-193 745.5,-199 745.5,-205 745.5,-205 745.5,-249 745.5,-249 745.5,-255 739.5,-261 733.5,-261\"/>\n<text text-anchor=\"start\" x=\"631\" y=\"-245.8\" font-family=\"Helvetica,sans-Serif\" font-size=\"14.00\">RM ≤ 7.435</text>\n<text text-anchor=\"start\" x=\"595.5\" y=\"-230.8\" font-family=\"Helvetica,sans-Serif\" font-size=\"14.00\">squared_error = 59.243</text>\n<text text-anchor=\"start\" x=\"625.5\" y=\"-215.8\" font-family=\"Helvetica,sans-Serif\" font-size=\"14.00\">samples = 38</text>\n<text text-anchor=\"start\" x=\"621.5\" y=\"-200.8\" font-family=\"Helvetica,sans-Serif\" font-size=\"14.00\">value = 39.613</text>\n</g>\n<!-- 1&#45;&gt;7 -->\n<g id=\"edge7\" class=\"edge\">\n<title>1&#45;&gt;7</title>\n<path fill=\"none\" stroke=\"black\" d=\"M666.5,-296.88C666.5,-288.78 666.5,-279.98 666.5,-271.47\"/>\n<polygon fill=\"black\" stroke=\"black\" points=\"670,-271.3 666.5,-261.3 663,-271.3 670,-271.3\"/>\n</g>\n<!-- 3 -->\n<g id=\"node4\" class=\"node\">\n<title>3</title>\n<path fill=\"#e58139\" stroke=\"black\" d=\"M139.5,-149.5C139.5,-149.5 27.5,-149.5 27.5,-149.5 21.5,-149.5 15.5,-143.5 15.5,-137.5 15.5,-137.5 15.5,-108.5 15.5,-108.5 15.5,-102.5 21.5,-96.5 27.5,-96.5 27.5,-96.5 139.5,-96.5 139.5,-96.5 145.5,-96.5 151.5,-102.5 151.5,-108.5 151.5,-108.5 151.5,-137.5 151.5,-137.5 151.5,-143.5 145.5,-149.5 139.5,-149.5\"/>\n<text text-anchor=\"start\" x=\"23.5\" y=\"-134.3\" font-family=\"Helvetica,sans-Serif\" font-size=\"14.00\">squared_error = 0.0</text>\n<text text-anchor=\"start\" x=\"46\" y=\"-119.3\" font-family=\"Helvetica,sans-Serif\" font-size=\"14.00\">samples = 2</text>\n<text text-anchor=\"start\" x=\"46\" y=\"-104.3\" font-family=\"Helvetica,sans-Serif\" font-size=\"14.00\">value = 50.0</text>\n</g>\n<!-- 2&#45;&gt;3 -->\n<g id=\"edge3\" class=\"edge\">\n<title>2&#45;&gt;3</title>\n<path fill=\"none\" stroke=\"black\" d=\"M194.93,-192.88C175.18,-180.68 152.9,-166.9 133.48,-154.9\"/>\n<polygon fill=\"black\" stroke=\"black\" points=\"135.13,-151.8 124.78,-149.52 131.45,-157.76 135.13,-151.8\"/>\n</g>\n<!-- 4 -->\n<g id=\"node5\" class=\"node\">\n<title>4</title>\n<path fill=\"#f5ceb3\" stroke=\"black\" d=\"M315.5,-157C315.5,-157 181.5,-157 181.5,-157 175.5,-157 169.5,-151 169.5,-145 169.5,-145 169.5,-101 169.5,-101 169.5,-95 175.5,-89 181.5,-89 181.5,-89 315.5,-89 315.5,-89 321.5,-89 327.5,-95 327.5,-101 327.5,-101 327.5,-145 327.5,-145 327.5,-151 321.5,-157 315.5,-157\"/>\n<text text-anchor=\"start\" x=\"213\" y=\"-141.8\" font-family=\"Helvetica,sans-Serif\" font-size=\"14.00\">RM ≤ 6.587</text>\n<text text-anchor=\"start\" x=\"177.5\" y=\"-126.8\" font-family=\"Helvetica,sans-Serif\" font-size=\"14.00\">squared_error = 17.381</text>\n<text text-anchor=\"start\" x=\"207.5\" y=\"-111.8\" font-family=\"Helvetica,sans-Serif\" font-size=\"14.00\">samples = 86</text>\n<text text-anchor=\"start\" x=\"203.5\" y=\"-96.8\" font-family=\"Helvetica,sans-Serif\" font-size=\"14.00\">value = 25.688</text>\n</g>\n<!-- 2&#45;&gt;4 -->\n<g id=\"edge4\" class=\"edge\">\n<title>2&#45;&gt;4</title>\n<path fill=\"none\" stroke=\"black\" d=\"M248.5,-192.88C248.5,-184.78 248.5,-175.98 248.5,-167.47\"/>\n<polygon fill=\"black\" stroke=\"black\" points=\"252,-167.3 248.5,-157.3 245,-167.3 252,-167.3\"/>\n</g>\n<!-- 5 -->\n<g id=\"node6\" class=\"node\">\n<title>5</title>\n<path fill=\"#f6d5be\" stroke=\"black\" d=\"M139,-53C139,-53 12,-53 12,-53 6,-53 0,-47 0,-41 0,-41 0,-12 0,-12 0,-6 6,0 12,0 12,0 139,0 139,0 145,0 151,-6 151,-12 151,-12 151,-41 151,-41 151,-47 145,-53 139,-53\"/>\n<text text-anchor=\"start\" x=\"8\" y=\"-37.8\" font-family=\"Helvetica,sans-Serif\" font-size=\"14.00\">squared_error = 8.047</text>\n<text text-anchor=\"start\" x=\"34.5\" y=\"-22.8\" font-family=\"Helvetica,sans-Serif\" font-size=\"14.00\">samples = 53</text>\n<text text-anchor=\"start\" x=\"30.5\" y=\"-7.8\" font-family=\"Helvetica,sans-Serif\" font-size=\"14.00\">value = 23.475</text>\n</g>\n<!-- 4&#45;&gt;5 -->\n<g id=\"edge5\" class=\"edge\">\n<title>4&#45;&gt;5</title>\n<path fill=\"none\" stroke=\"black\" d=\"M187.99,-88.95C169.66,-78.93 149.6,-67.98 131.57,-58.13\"/>\n<polygon fill=\"black\" stroke=\"black\" points=\"132.8,-54.81 122.34,-53.09 129.44,-60.95 132.8,-54.81\"/>\n</g>\n<!-- 6 -->\n<g id=\"node7\" class=\"node\">\n<title>6</title>\n<path fill=\"#f3c3a1\" stroke=\"black\" d=\"M315.5,-53C315.5,-53 181.5,-53 181.5,-53 175.5,-53 169.5,-47 169.5,-41 169.5,-41 169.5,-12 169.5,-12 169.5,-6 175.5,0 181.5,0 181.5,0 315.5,0 315.5,0 321.5,0 327.5,-6 327.5,-12 327.5,-12 327.5,-41 327.5,-41 327.5,-47 321.5,-53 315.5,-53\"/>\n<text text-anchor=\"start\" x=\"177.5\" y=\"-37.8\" font-family=\"Helvetica,sans-Serif\" font-size=\"14.00\">squared_error = 11.876</text>\n<text text-anchor=\"start\" x=\"207.5\" y=\"-22.8\" font-family=\"Helvetica,sans-Serif\" font-size=\"14.00\">samples = 33</text>\n<text text-anchor=\"start\" x=\"203.5\" y=\"-7.8\" font-family=\"Helvetica,sans-Serif\" font-size=\"14.00\">value = 29.242</text>\n</g>\n<!-- 4&#45;&gt;6 -->\n<g id=\"edge6\" class=\"edge\">\n<title>4&#45;&gt;6</title>\n<path fill=\"none\" stroke=\"black\" d=\"M248.5,-88.95C248.5,-80.72 248.5,-71.85 248.5,-63.48\"/>\n<polygon fill=\"black\" stroke=\"black\" points=\"252,-63.24 248.5,-53.24 245,-63.24 252,-63.24\"/>\n</g>\n<!-- 8 -->\n<g id=\"node9\" class=\"node\">\n<title>8</title>\n<path fill=\"#efb285\" stroke=\"black\" d=\"M645.5,-157C645.5,-157 511.5,-157 511.5,-157 505.5,-157 499.5,-151 499.5,-145 499.5,-145 499.5,-101 499.5,-101 499.5,-95 505.5,-89 511.5,-89 511.5,-89 645.5,-89 645.5,-89 651.5,-89 657.5,-95 657.5,-101 657.5,-101 657.5,-145 657.5,-145 657.5,-151 651.5,-157 645.5,-157\"/>\n<text text-anchor=\"start\" x=\"536\" y=\"-141.8\" font-family=\"Helvetica,sans-Serif\" font-size=\"14.00\">CRIM ≤ 6.135</text>\n<text text-anchor=\"start\" x=\"507.5\" y=\"-126.8\" font-family=\"Helvetica,sans-Serif\" font-size=\"14.00\">squared_error = 21.451</text>\n<text text-anchor=\"start\" x=\"537.5\" y=\"-111.8\" font-family=\"Helvetica,sans-Serif\" font-size=\"14.00\">samples = 19</text>\n<text text-anchor=\"start\" x=\"533.5\" y=\"-96.8\" font-family=\"Helvetica,sans-Serif\" font-size=\"14.00\">value = 34.716</text>\n</g>\n<!-- 7&#45;&gt;8 -->\n<g id=\"edge8\" class=\"edge\">\n<title>7&#45;&gt;8</title>\n<path fill=\"none\" stroke=\"black\" d=\"M637.93,-192.88C630.24,-183.98 621.84,-174.24 613.84,-164.96\"/>\n<polygon fill=\"black\" stroke=\"black\" points=\"616.41,-162.58 607.23,-157.3 611.11,-167.16 616.41,-162.58\"/>\n</g>\n<!-- 11 -->\n<g id=\"node12\" class=\"node\">\n<title>11</title>\n<path fill=\"#e99254\" stroke=\"black\" d=\"M821.5,-157C821.5,-157 687.5,-157 687.5,-157 681.5,-157 675.5,-151 675.5,-145 675.5,-145 675.5,-101 675.5,-101 675.5,-95 681.5,-89 687.5,-89 687.5,-89 821.5,-89 821.5,-89 827.5,-89 833.5,-95 833.5,-101 833.5,-101 833.5,-145 833.5,-145 833.5,-151 827.5,-157 821.5,-157\"/>\n<text text-anchor=\"start\" x=\"704.5\" y=\"-141.8\" font-family=\"Helvetica,sans-Serif\" font-size=\"14.00\">PTRATIO ≤ 18.3</text>\n<text text-anchor=\"start\" x=\"683.5\" y=\"-126.8\" font-family=\"Helvetica,sans-Serif\" font-size=\"14.00\">squared_error = 49.066</text>\n<text text-anchor=\"start\" x=\"713.5\" y=\"-111.8\" font-family=\"Helvetica,sans-Serif\" font-size=\"14.00\">samples = 19</text>\n<text text-anchor=\"start\" x=\"710\" y=\"-96.8\" font-family=\"Helvetica,sans-Serif\" font-size=\"14.00\">value = 44.511</text>\n</g>\n<!-- 7&#45;&gt;11 -->\n<g id=\"edge11\" class=\"edge\">\n<title>7&#45;&gt;11</title>\n<path fill=\"none\" stroke=\"black\" d=\"M695.07,-192.88C702.76,-183.98 711.16,-174.24 719.16,-164.96\"/>\n<polygon fill=\"black\" stroke=\"black\" points=\"721.89,-167.16 725.77,-157.3 716.59,-162.58 721.89,-167.16\"/>\n</g>\n<!-- 9 -->\n<g id=\"node10\" class=\"node\">\n<title>9</title>\n<path fill=\"#f0b48a\" stroke=\"black\" d=\"M485,-53C485,-53 358,-53 358,-53 352,-53 346,-47 346,-41 346,-41 346,-12 346,-12 346,-6 352,0 358,0 358,0 485,0 485,0 491,0 497,-6 497,-12 497,-12 497,-41 497,-41 497,-47 491,-53 485,-53\"/>\n<text text-anchor=\"start\" x=\"354\" y=\"-37.8\" font-family=\"Helvetica,sans-Serif\" font-size=\"14.00\">squared_error = 8.943</text>\n<text text-anchor=\"start\" x=\"380.5\" y=\"-22.8\" font-family=\"Helvetica,sans-Serif\" font-size=\"14.00\">samples = 18</text>\n<text text-anchor=\"start\" x=\"376.5\" y=\"-7.8\" font-family=\"Helvetica,sans-Serif\" font-size=\"14.00\">value = 33.867</text>\n</g>\n<!-- 8&#45;&gt;9 -->\n<g id=\"edge9\" class=\"edge\">\n<title>8&#45;&gt;9</title>\n<path fill=\"none\" stroke=\"black\" d=\"M523.59,-88.95C507.17,-79.07 489.24,-68.28 473.05,-58.53\"/>\n<polygon fill=\"black\" stroke=\"black\" points=\"474.63,-55.4 464.26,-53.24 471.02,-61.39 474.63,-55.4\"/>\n</g>\n<!-- 10 -->\n<g id=\"node11\" class=\"node\">\n<title>10</title>\n<path fill=\"#e58139\" stroke=\"black\" d=\"M639.5,-53C639.5,-53 527.5,-53 527.5,-53 521.5,-53 515.5,-47 515.5,-41 515.5,-41 515.5,-12 515.5,-12 515.5,-6 521.5,0 527.5,0 527.5,0 639.5,0 639.5,0 645.5,0 651.5,-6 651.5,-12 651.5,-12 651.5,-41 651.5,-41 651.5,-47 645.5,-53 639.5,-53\"/>\n<text text-anchor=\"start\" x=\"523.5\" y=\"-37.8\" font-family=\"Helvetica,sans-Serif\" font-size=\"14.00\">squared_error = 0.0</text>\n<text text-anchor=\"start\" x=\"546\" y=\"-22.8\" font-family=\"Helvetica,sans-Serif\" font-size=\"14.00\">samples = 1</text>\n<text text-anchor=\"start\" x=\"546\" y=\"-7.8\" font-family=\"Helvetica,sans-Serif\" font-size=\"14.00\">value = 50.0</text>\n</g>\n<!-- 8&#45;&gt;10 -->\n<g id=\"edge10\" class=\"edge\">\n<title>8&#45;&gt;10</title>\n<path fill=\"none\" stroke=\"black\" d=\"M580.25,-88.95C580.68,-80.72 581.15,-71.85 581.6,-63.48\"/>\n<polygon fill=\"black\" stroke=\"black\" points=\"585.1,-63.41 582.14,-53.24 578.11,-63.04 585.1,-63.41\"/>\n</g>\n<!-- 12 -->\n<g id=\"node13\" class=\"node\">\n<title>12</title>\n<path fill=\"#e78d4b\" stroke=\"black\" d=\"M815.5,-53C815.5,-53 681.5,-53 681.5,-53 675.5,-53 669.5,-47 669.5,-41 669.5,-41 669.5,-12 669.5,-12 669.5,-6 675.5,0 681.5,0 681.5,0 815.5,0 815.5,0 821.5,0 827.5,-6 827.5,-12 827.5,-12 827.5,-41 827.5,-41 827.5,-47 821.5,-53 815.5,-53\"/>\n<text text-anchor=\"start\" x=\"677.5\" y=\"-37.8\" font-family=\"Helvetica,sans-Serif\" font-size=\"14.00\">squared_error = 16.141</text>\n<text text-anchor=\"start\" x=\"707.5\" y=\"-22.8\" font-family=\"Helvetica,sans-Serif\" font-size=\"14.00\">samples = 17</text>\n<text text-anchor=\"start\" x=\"703.5\" y=\"-7.8\" font-family=\"Helvetica,sans-Serif\" font-size=\"14.00\">value = 46.388</text>\n</g>\n<!-- 11&#45;&gt;12 -->\n<g id=\"edge12\" class=\"edge\">\n<title>11&#45;&gt;12</title>\n<path fill=\"none\" stroke=\"black\" d=\"M752.4,-88.95C751.88,-80.72 751.32,-71.85 750.78,-63.48\"/>\n<polygon fill=\"black\" stroke=\"black\" points=\"754.26,-62.99 750.13,-53.24 747.27,-63.44 754.26,-62.99\"/>\n</g>\n<!-- 13 -->\n<g id=\"node14\" class=\"node\">\n<title>13</title>\n<path fill=\"#f3c5a4\" stroke=\"black\" d=\"M991.5,-53C991.5,-53 857.5,-53 857.5,-53 851.5,-53 845.5,-47 845.5,-41 845.5,-41 845.5,-12 845.5,-12 845.5,-6 851.5,0 857.5,0 857.5,0 991.5,0 991.5,0 997.5,0 1003.5,-6 1003.5,-12 1003.5,-12 1003.5,-41 1003.5,-41 1003.5,-47 997.5,-53 991.5,-53\"/>\n<text text-anchor=\"start\" x=\"853.5\" y=\"-37.8\" font-family=\"Helvetica,sans-Serif\" font-size=\"14.00\">squared_error = 44.223</text>\n<text text-anchor=\"start\" x=\"887\" y=\"-22.8\" font-family=\"Helvetica,sans-Serif\" font-size=\"14.00\">samples = 2</text>\n<text text-anchor=\"start\" x=\"883.5\" y=\"-7.8\" font-family=\"Helvetica,sans-Serif\" font-size=\"14.00\">value = 28.55</text>\n</g>\n<!-- 11&#45;&gt;13 -->\n<g id=\"edge13\" class=\"edge\">\n<title>11&#45;&gt;13</title>\n<path fill=\"none\" stroke=\"black\" d=\"M813.96,-88.95C831.98,-78.93 851.68,-67.98 869.41,-58.13\"/>\n<polygon fill=\"black\" stroke=\"black\" points=\"871.43,-61 878.47,-53.09 868.03,-54.89 871.43,-61\"/>\n</g>\n<!-- 15 -->\n<g id=\"node16\" class=\"node\">\n<title>15</title>\n<path fill=\"#f8decb\" stroke=\"black\" d=\"M1421,-261C1421,-261 1294,-261 1294,-261 1288,-261 1282,-255 1282,-249 1282,-249 1282,-205 1282,-205 1282,-199 1288,-193 1294,-193 1294,-193 1421,-193 1421,-193 1427,-193 1433,-199 1433,-205 1433,-205 1433,-249 1433,-249 1433,-255 1427,-261 1421,-261\"/>\n<text text-anchor=\"start\" x=\"1307.5\" y=\"-245.8\" font-family=\"Helvetica,sans-Serif\" font-size=\"14.00\">PTRATIO ≤ 18.0</text>\n<text text-anchor=\"start\" x=\"1290\" y=\"-230.8\" font-family=\"Helvetica,sans-Serif\" font-size=\"14.00\">squared_error = 8.773</text>\n<text text-anchor=\"start\" x=\"1316.5\" y=\"-215.8\" font-family=\"Helvetica,sans-Serif\" font-size=\"14.00\">samples = 79</text>\n<text text-anchor=\"start\" x=\"1312.5\" y=\"-200.8\" font-family=\"Helvetica,sans-Serif\" font-size=\"14.00\">value = 20.908</text>\n</g>\n<!-- 14&#45;&gt;15 -->\n<g id=\"edge15\" class=\"edge\">\n<title>14&#45;&gt;15</title>\n<path fill=\"none\" stroke=\"black\" d=\"M1357.5,-296.88C1357.5,-288.78 1357.5,-279.98 1357.5,-271.47\"/>\n<polygon fill=\"black\" stroke=\"black\" points=\"1361,-271.3 1357.5,-261.3 1354,-271.3 1361,-271.3\"/>\n</g>\n<!-- 22 -->\n<g id=\"node23\" class=\"node\">\n<title>22</title>\n<path fill=\"#fcf2ea\" stroke=\"black\" d=\"M1922.5,-261C1922.5,-261 1788.5,-261 1788.5,-261 1782.5,-261 1776.5,-255 1776.5,-249 1776.5,-249 1776.5,-205 1776.5,-205 1776.5,-199 1782.5,-193 1788.5,-193 1788.5,-193 1922.5,-193 1922.5,-193 1928.5,-193 1934.5,-199 1934.5,-205 1934.5,-205 1934.5,-249 1934.5,-249 1934.5,-255 1928.5,-261 1922.5,-261\"/>\n<text text-anchor=\"start\" x=\"1813\" y=\"-245.8\" font-family=\"Helvetica,sans-Serif\" font-size=\"14.00\">CRIM ≤ 5.769</text>\n<text text-anchor=\"start\" x=\"1784.5\" y=\"-230.8\" font-family=\"Helvetica,sans-Serif\" font-size=\"14.00\">squared_error = 15.906</text>\n<text text-anchor=\"start\" x=\"1814.5\" y=\"-215.8\" font-family=\"Helvetica,sans-Serif\" font-size=\"14.00\">samples = 98</text>\n<text text-anchor=\"start\" x=\"1810.5\" y=\"-200.8\" font-family=\"Helvetica,sans-Serif\" font-size=\"14.00\">value = 14.551</text>\n</g>\n<!-- 14&#45;&gt;22 -->\n<g id=\"edge22\" class=\"edge\">\n<title>14&#45;&gt;22</title>\n<path fill=\"none\" stroke=\"black\" d=\"M1436.68,-313.78C1526.45,-295.4 1672.44,-265.49 1766.2,-246.29\"/>\n<polygon fill=\"black\" stroke=\"black\" points=\"1767.14,-249.67 1776.23,-244.24 1765.73,-242.81 1767.14,-249.67\"/>\n</g>\n<!-- 16 -->\n<g id=\"node17\" class=\"node\">\n<title>16</title>\n<path fill=\"#f7d8c2\" stroke=\"black\" d=\"M1338.5,-157C1338.5,-157 1204.5,-157 1204.5,-157 1198.5,-157 1192.5,-151 1192.5,-145 1192.5,-145 1192.5,-101 1192.5,-101 1192.5,-95 1198.5,-89 1204.5,-89 1204.5,-89 1338.5,-89 1338.5,-89 1344.5,-89 1350.5,-95 1350.5,-101 1350.5,-101 1350.5,-145 1350.5,-145 1350.5,-151 1344.5,-157 1338.5,-157\"/>\n<text text-anchor=\"start\" x=\"1234\" y=\"-141.8\" font-family=\"Helvetica,sans-Serif\" font-size=\"14.00\">TAX ≤ 309.0</text>\n<text text-anchor=\"start\" x=\"1200.5\" y=\"-126.8\" font-family=\"Helvetica,sans-Serif\" font-size=\"14.00\">squared_error = 12.465</text>\n<text text-anchor=\"start\" x=\"1230.5\" y=\"-111.8\" font-family=\"Helvetica,sans-Serif\" font-size=\"14.00\">samples = 28</text>\n<text text-anchor=\"start\" x=\"1230.5\" y=\"-96.8\" font-family=\"Helvetica,sans-Serif\" font-size=\"14.00\">value = 22.55</text>\n</g>\n<!-- 15&#45;&gt;16 -->\n<g id=\"edge16\" class=\"edge\">\n<title>15&#45;&gt;16</title>\n<path fill=\"none\" stroke=\"black\" d=\"M1329.58,-192.88C1322.07,-183.98 1313.86,-174.24 1306.03,-164.96\"/>\n<polygon fill=\"black\" stroke=\"black\" points=\"1308.7,-162.69 1299.58,-157.3 1303.35,-167.2 1308.7,-162.69\"/>\n</g>\n<!-- 19 -->\n<g id=\"node20\" class=\"node\">\n<title>19</title>\n<path fill=\"#f9e1cf\" stroke=\"black\" d=\"M1508,-157C1508,-157 1381,-157 1381,-157 1375,-157 1369,-151 1369,-145 1369,-145 1369,-101 1369,-101 1369,-95 1375,-89 1381,-89 1381,-89 1508,-89 1508,-89 1514,-89 1520,-95 1520,-101 1520,-101 1520,-145 1520,-145 1520,-151 1514,-157 1508,-157\"/>\n<text text-anchor=\"start\" x=\"1409\" y=\"-141.8\" font-family=\"Helvetica,sans-Serif\" font-size=\"14.00\">AGE ≤ 97.8</text>\n<text text-anchor=\"start\" x=\"1377\" y=\"-126.8\" font-family=\"Helvetica,sans-Serif\" font-size=\"14.00\">squared_error = 4.452</text>\n<text text-anchor=\"start\" x=\"1403.5\" y=\"-111.8\" font-family=\"Helvetica,sans-Serif\" font-size=\"14.00\">samples = 51</text>\n<text text-anchor=\"start\" x=\"1399.5\" y=\"-96.8\" font-family=\"Helvetica,sans-Serif\" font-size=\"14.00\">value = 20.006</text>\n</g>\n<!-- 15&#45;&gt;19 -->\n<g id=\"edge19\" class=\"edge\">\n<title>15&#45;&gt;19</title>\n<path fill=\"none\" stroke=\"black\" d=\"M1385.75,-192.88C1393.34,-183.98 1401.65,-174.24 1409.57,-164.96\"/>\n<polygon fill=\"black\" stroke=\"black\" points=\"1412.27,-167.18 1416.1,-157.3 1406.95,-162.64 1412.27,-167.18\"/>\n</g>\n<!-- 17 -->\n<g id=\"node18\" class=\"node\">\n<title>17</title>\n<path fill=\"#f6d1b7\" stroke=\"black\" d=\"M1167.5,-53C1167.5,-53 1033.5,-53 1033.5,-53 1027.5,-53 1021.5,-47 1021.5,-41 1021.5,-41 1021.5,-12 1021.5,-12 1021.5,-6 1027.5,0 1033.5,0 1033.5,0 1167.5,0 1167.5,0 1173.5,0 1179.5,-6 1179.5,-12 1179.5,-12 1179.5,-41 1179.5,-41 1179.5,-47 1173.5,-53 1167.5,-53\"/>\n<text text-anchor=\"start\" x=\"1029.5\" y=\"-37.8\" font-family=\"Helvetica,sans-Serif\" font-size=\"14.00\">squared_error = 10.905</text>\n<text text-anchor=\"start\" x=\"1059.5\" y=\"-22.8\" font-family=\"Helvetica,sans-Serif\" font-size=\"14.00\">samples = 13</text>\n<text text-anchor=\"start\" x=\"1055.5\" y=\"-7.8\" font-family=\"Helvetica,sans-Serif\" font-size=\"14.00\">value = 24.731</text>\n</g>\n<!-- 16&#45;&gt;17 -->\n<g id=\"edge17\" class=\"edge\">\n<title>16&#45;&gt;17</title>\n<path fill=\"none\" stroke=\"black\" d=\"M1211.69,-88.95C1193.57,-78.93 1173.74,-67.98 1155.92,-58.13\"/>\n<polygon fill=\"black\" stroke=\"black\" points=\"1157.25,-54.86 1146.8,-53.09 1153.86,-60.99 1157.25,-54.86\"/>\n</g>\n<!-- 18 -->\n<g id=\"node19\" class=\"node\">\n<title>18</title>\n<path fill=\"#f8decc\" stroke=\"black\" d=\"M1337,-53C1337,-53 1210,-53 1210,-53 1204,-53 1198,-47 1198,-41 1198,-41 1198,-12 1198,-12 1198,-6 1204,0 1210,0 1210,0 1337,0 1337,0 1343,0 1349,-6 1349,-12 1349,-12 1349,-41 1349,-41 1349,-47 1343,-53 1337,-53\"/>\n<text text-anchor=\"start\" x=\"1206\" y=\"-37.8\" font-family=\"Helvetica,sans-Serif\" font-size=\"14.00\">squared_error = 6.124</text>\n<text text-anchor=\"start\" x=\"1232.5\" y=\"-22.8\" font-family=\"Helvetica,sans-Serif\" font-size=\"14.00\">samples = 15</text>\n<text text-anchor=\"start\" x=\"1232.5\" y=\"-7.8\" font-family=\"Helvetica,sans-Serif\" font-size=\"14.00\">value = 20.66</text>\n</g>\n<!-- 16&#45;&gt;18 -->\n<g id=\"edge18\" class=\"edge\">\n<title>16&#45;&gt;18</title>\n<path fill=\"none\" stroke=\"black\" d=\"M1272.2,-88.95C1272.37,-80.72 1272.56,-71.85 1272.74,-63.48\"/>\n<polygon fill=\"black\" stroke=\"black\" points=\"1276.24,-63.31 1272.96,-53.24 1269.24,-63.16 1276.24,-63.31\"/>\n</g>\n<!-- 20 -->\n<g id=\"node21\" class=\"node\">\n<title>20</title>\n<path fill=\"#f9e0ce\" stroke=\"black\" d=\"M1506,-53C1506,-53 1379,-53 1379,-53 1373,-53 1367,-47 1367,-41 1367,-41 1367,-12 1367,-12 1367,-6 1373,0 1379,0 1379,0 1506,0 1506,0 1512,0 1518,-6 1518,-12 1518,-12 1518,-41 1518,-41 1518,-47 1512,-53 1506,-53\"/>\n<text text-anchor=\"start\" x=\"1375\" y=\"-37.8\" font-family=\"Helvetica,sans-Serif\" font-size=\"14.00\">squared_error = 3.508</text>\n<text text-anchor=\"start\" x=\"1401.5\" y=\"-22.8\" font-family=\"Helvetica,sans-Serif\" font-size=\"14.00\">samples = 48</text>\n<text text-anchor=\"start\" x=\"1397.5\" y=\"-7.8\" font-family=\"Helvetica,sans-Serif\" font-size=\"14.00\">value = 20.242</text>\n</g>\n<!-- 19&#45;&gt;20 -->\n<g id=\"edge20\" class=\"edge\">\n<title>19&#45;&gt;20</title>\n<path fill=\"none\" stroke=\"black\" d=\"M1443.8,-88.95C1443.63,-80.72 1443.44,-71.85 1443.26,-63.48\"/>\n<polygon fill=\"black\" stroke=\"black\" points=\"1446.76,-63.16 1443.04,-53.24 1439.76,-63.31 1446.76,-63.16\"/>\n</g>\n<!-- 21 -->\n<g id=\"node22\" class=\"node\">\n<title>21</title>\n<path fill=\"#fbede2\" stroke=\"black\" d=\"M1675,-53C1675,-53 1548,-53 1548,-53 1542,-53 1536,-47 1536,-41 1536,-41 1536,-12 1536,-12 1536,-6 1542,0 1548,0 1548,0 1675,0 1675,0 1681,0 1687,-6 1687,-12 1687,-12 1687,-41 1687,-41 1687,-47 1681,-53 1675,-53\"/>\n<text text-anchor=\"start\" x=\"1544\" y=\"-37.8\" font-family=\"Helvetica,sans-Serif\" font-size=\"14.00\">squared_error = 4.442</text>\n<text text-anchor=\"start\" x=\"1574\" y=\"-22.8\" font-family=\"Helvetica,sans-Serif\" font-size=\"14.00\">samples = 3</text>\n<text text-anchor=\"start\" x=\"1566.5\" y=\"-7.8\" font-family=\"Helvetica,sans-Serif\" font-size=\"14.00\">value = 16.233</text>\n</g>\n<!-- 19&#45;&gt;21 -->\n<g id=\"edge21\" class=\"edge\">\n<title>19&#45;&gt;21</title>\n<path fill=\"none\" stroke=\"black\" d=\"M1502.91,-88.95C1520.61,-78.93 1539.97,-67.98 1557.38,-58.13\"/>\n<polygon fill=\"black\" stroke=\"black\" points=\"1559.3,-61.06 1566.28,-53.09 1555.86,-54.97 1559.3,-61.06\"/>\n</g>\n<!-- 23 -->\n<g id=\"node24\" class=\"node\">\n<title>23</title>\n<path fill=\"#fbebe0\" stroke=\"black\" d=\"M1922.5,-157C1922.5,-157 1788.5,-157 1788.5,-157 1782.5,-157 1776.5,-151 1776.5,-145 1776.5,-145 1776.5,-101 1776.5,-101 1776.5,-95 1782.5,-89 1788.5,-89 1788.5,-89 1922.5,-89 1922.5,-89 1928.5,-89 1934.5,-95 1934.5,-101 1934.5,-101 1934.5,-145 1934.5,-145 1934.5,-151 1928.5,-157 1922.5,-157\"/>\n<text text-anchor=\"start\" x=\"1816\" y=\"-141.8\" font-family=\"Helvetica,sans-Serif\" font-size=\"14.00\">NOX ≤ 0.531</text>\n<text text-anchor=\"start\" x=\"1784.5\" y=\"-126.8\" font-family=\"Helvetica,sans-Serif\" font-size=\"14.00\">squared_error = 10.899</text>\n<text text-anchor=\"start\" x=\"1814.5\" y=\"-111.8\" font-family=\"Helvetica,sans-Serif\" font-size=\"14.00\">samples = 52</text>\n<text text-anchor=\"start\" x=\"1810.5\" y=\"-96.8\" font-family=\"Helvetica,sans-Serif\" font-size=\"14.00\">value = 16.592</text>\n</g>\n<!-- 22&#45;&gt;23 -->\n<g id=\"edge23\" class=\"edge\">\n<title>22&#45;&gt;23</title>\n<path fill=\"none\" stroke=\"black\" d=\"M1855.5,-192.88C1855.5,-184.78 1855.5,-175.98 1855.5,-167.47\"/>\n<polygon fill=\"black\" stroke=\"black\" points=\"1859,-167.3 1855.5,-157.3 1852,-167.3 1859,-167.3\"/>\n</g>\n<!-- 26 -->\n<g id=\"node27\" class=\"node\">\n<title>26</title>\n<path fill=\"#fef9f6\" stroke=\"black\" d=\"M2177.5,-157C2177.5,-157 2043.5,-157 2043.5,-157 2037.5,-157 2031.5,-151 2031.5,-145 2031.5,-145 2031.5,-101 2031.5,-101 2031.5,-95 2037.5,-89 2043.5,-89 2043.5,-89 2177.5,-89 2177.5,-89 2183.5,-89 2189.5,-95 2189.5,-101 2189.5,-101 2189.5,-145 2189.5,-145 2189.5,-151 2183.5,-157 2177.5,-157\"/>\n<text text-anchor=\"start\" x=\"2062\" y=\"-141.8\" font-family=\"Helvetica,sans-Serif\" font-size=\"14.00\">LSTAT ≤ 20.195</text>\n<text text-anchor=\"start\" x=\"2039.5\" y=\"-126.8\" font-family=\"Helvetica,sans-Serif\" font-size=\"14.00\">squared_error = 11.531</text>\n<text text-anchor=\"start\" x=\"2069.5\" y=\"-111.8\" font-family=\"Helvetica,sans-Serif\" font-size=\"14.00\">samples = 46</text>\n<text text-anchor=\"start\" x=\"2065.5\" y=\"-96.8\" font-family=\"Helvetica,sans-Serif\" font-size=\"14.00\">value = 12.243</text>\n</g>\n<!-- 22&#45;&gt;26 -->\n<g id=\"edge26\" class=\"edge\">\n<title>22&#45;&gt;26</title>\n<path fill=\"none\" stroke=\"black\" d=\"M1934.79,-194.29C1962.37,-183.25 1993.49,-170.81 2021.78,-159.49\"/>\n<polygon fill=\"black\" stroke=\"black\" points=\"2023.28,-162.66 2031.26,-155.69 2020.68,-156.16 2023.28,-162.66\"/>\n</g>\n<!-- 24 -->\n<g id=\"node25\" class=\"node\">\n<title>24</title>\n<path fill=\"#f9e1d0\" stroke=\"black\" d=\"M1836,-53C1836,-53 1717,-53 1717,-53 1711,-53 1705,-47 1705,-41 1705,-41 1705,-12 1705,-12 1705,-6 1711,0 1717,0 1717,0 1836,0 1836,0 1842,0 1848,-6 1848,-12 1848,-12 1848,-41 1848,-41 1848,-47 1842,-53 1836,-53\"/>\n<text text-anchor=\"start\" x=\"1713\" y=\"-37.8\" font-family=\"Helvetica,sans-Serif\" font-size=\"14.00\">squared_error = 6.69</text>\n<text text-anchor=\"start\" x=\"1735.5\" y=\"-22.8\" font-family=\"Helvetica,sans-Serif\" font-size=\"14.00\">samples = 11</text>\n<text text-anchor=\"start\" x=\"1731.5\" y=\"-7.8\" font-family=\"Helvetica,sans-Serif\" font-size=\"14.00\">value = 19.855</text>\n</g>\n<!-- 23&#45;&gt;24 -->\n<g id=\"edge24\" class=\"edge\">\n<title>23&#45;&gt;24</title>\n<path fill=\"none\" stroke=\"black\" d=\"M1827.87,-88.95C1820.3,-79.89 1812.09,-70.07 1804.49,-60.99\"/>\n<polygon fill=\"black\" stroke=\"black\" points=\"1807.11,-58.66 1798.02,-53.24 1801.74,-63.15 1807.11,-58.66\"/>\n</g>\n<!-- 25 -->\n<g id=\"node26\" class=\"node\">\n<title>25</title>\n<path fill=\"#fceee5\" stroke=\"black\" d=\"M2005,-53C2005,-53 1878,-53 1878,-53 1872,-53 1866,-47 1866,-41 1866,-41 1866,-12 1866,-12 1866,-6 1872,0 1878,0 1878,0 2005,0 2005,0 2011,0 2017,-6 2017,-12 2017,-12 2017,-41 2017,-41 2017,-47 2011,-53 2005,-53\"/>\n<text text-anchor=\"start\" x=\"1874\" y=\"-37.8\" font-family=\"Helvetica,sans-Serif\" font-size=\"14.00\">squared_error = 8.407</text>\n<text text-anchor=\"start\" x=\"1900.5\" y=\"-22.8\" font-family=\"Helvetica,sans-Serif\" font-size=\"14.00\">samples = 41</text>\n<text text-anchor=\"start\" x=\"1896.5\" y=\"-7.8\" font-family=\"Helvetica,sans-Serif\" font-size=\"14.00\">value = 15.717</text>\n</g>\n<!-- 23&#45;&gt;25 -->\n<g id=\"edge25\" class=\"edge\">\n<title>23&#45;&gt;25</title>\n<path fill=\"none\" stroke=\"black\" d=\"M1885.58,-88.95C1893.9,-79.8 1902.94,-69.87 1911.27,-60.71\"/>\n<polygon fill=\"black\" stroke=\"black\" points=\"1913.94,-62.99 1918.08,-53.24 1908.76,-58.28 1913.94,-62.99\"/>\n</g>\n<!-- 27 -->\n<g id=\"node28\" class=\"node\">\n<title>27</title>\n<path fill=\"#fdf3ed\" stroke=\"black\" d=\"M2174,-53C2174,-53 2047,-53 2047,-53 2041,-53 2035,-47 2035,-41 2035,-41 2035,-12 2035,-12 2035,-6 2041,0 2047,0 2047,0 2174,0 2174,0 2180,0 2186,-6 2186,-12 2186,-12 2186,-41 2186,-41 2186,-47 2180,-53 2174,-53\"/>\n<text text-anchor=\"start\" x=\"2043\" y=\"-37.8\" font-family=\"Helvetica,sans-Serif\" font-size=\"14.00\">squared_error = 6.959</text>\n<text text-anchor=\"start\" x=\"2069.5\" y=\"-22.8\" font-family=\"Helvetica,sans-Serif\" font-size=\"14.00\">samples = 23</text>\n<text text-anchor=\"start\" x=\"2065.5\" y=\"-7.8\" font-family=\"Helvetica,sans-Serif\" font-size=\"14.00\">value = 14.057</text>\n</g>\n<!-- 26&#45;&gt;27 -->\n<g id=\"edge27\" class=\"edge\">\n<title>26&#45;&gt;27</title>\n<path fill=\"none\" stroke=\"black\" d=\"M2110.5,-88.95C2110.5,-80.72 2110.5,-71.85 2110.5,-63.48\"/>\n<polygon fill=\"black\" stroke=\"black\" points=\"2114,-63.24 2110.5,-53.24 2107,-63.24 2114,-63.24\"/>\n</g>\n<!-- 28 -->\n<g id=\"node29\" class=\"node\">\n<title>28</title>\n<path fill=\"#ffffff\" stroke=\"black\" d=\"M2343,-53C2343,-53 2216,-53 2216,-53 2210,-53 2204,-47 2204,-41 2204,-41 2204,-12 2204,-12 2204,-6 2210,0 2216,0 2216,0 2343,0 2343,0 2349,0 2355,-6 2355,-12 2355,-12 2355,-41 2355,-41 2355,-47 2349,-53 2343,-53\"/>\n<text text-anchor=\"start\" x=\"2212\" y=\"-37.8\" font-family=\"Helvetica,sans-Serif\" font-size=\"14.00\">squared_error = 9.528</text>\n<text text-anchor=\"start\" x=\"2238.5\" y=\"-22.8\" font-family=\"Helvetica,sans-Serif\" font-size=\"14.00\">samples = 23</text>\n<text text-anchor=\"start\" x=\"2238.5\" y=\"-7.8\" font-family=\"Helvetica,sans-Serif\" font-size=\"14.00\">value = 10.43</text>\n</g>\n<!-- 26&#45;&gt;28 -->\n<g id=\"edge28\" class=\"edge\">\n<title>26&#45;&gt;28</title>\n<path fill=\"none\" stroke=\"black\" d=\"M2169.61,-88.95C2187.52,-78.93 2207.11,-67.98 2224.73,-58.13\"/>\n<polygon fill=\"black\" stroke=\"black\" points=\"2226.72,-61.02 2233.74,-53.09 2223.31,-54.91 2226.72,-61.02\"/>\n</g>\n</g>\n</svg>\n",
      "text/plain": "<graphviz.sources.Source at 0x182666899d0>"
     },
     "execution_count": 147,
     "metadata": {},
     "output_type": "execute_result"
    }
   ],
   "source": [
    "graph_car"
   ],
   "metadata": {
    "collapsed": false,
    "ExecuteTime": {
     "end_time": "2023-12-09T16:37:43.069688Z",
     "start_time": "2023-12-09T16:37:43.009241700Z"
    }
   },
   "id": "16cf5230da7d379"
  },
  {
   "cell_type": "code",
   "execution_count": 148,
   "outputs": [],
   "source": [
    "#导出为PDF格式文件"
   ],
   "metadata": {
    "collapsed": false,
    "ExecuteTime": {
     "end_time": "2023-12-09T16:40:37.976570900Z",
     "start_time": "2023-12-09T16:40:37.965022300Z"
    }
   },
   "id": "e0b8702c4869e6bf"
  },
  {
   "cell_type": "code",
   "execution_count": 149,
   "outputs": [
    {
     "data": {
      "text/plain": "'housing.pdf'"
     },
     "execution_count": 149,
     "metadata": {},
     "output_type": "execute_result"
    }
   ],
   "source": [
    "graph_car.render('housing')"
   ],
   "metadata": {
    "collapsed": false,
    "ExecuteTime": {
     "end_time": "2023-12-09T16:40:42.517274Z",
     "start_time": "2023-12-09T16:40:42.417951800Z"
    }
   },
   "id": "cb9650e2dab0f927"
  },
  {
   "cell_type": "code",
   "execution_count": null,
   "outputs": [],
   "source": [],
   "metadata": {
    "collapsed": false
   },
   "id": "92272902193145cc"
  }
 ],
 "metadata": {
  "kernelspec": {
   "display_name": "Python 3",
   "language": "python",
   "name": "python3"
  },
  "language_info": {
   "codemirror_mode": {
    "name": "ipython",
    "version": 2
   },
   "file_extension": ".py",
   "mimetype": "text/x-python",
   "name": "python",
   "nbconvert_exporter": "python",
   "pygments_lexer": "ipython2",
   "version": "2.7.6"
  }
 },
 "nbformat": 4,
 "nbformat_minor": 5
}
