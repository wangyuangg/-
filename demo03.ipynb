{
 "cells": [
  {
   "cell_type": "code",
   "execution_count": 97,
   "outputs": [],
   "source": [
    "import numpy as np"
   ],
   "metadata": {
    "collapsed": false,
    "ExecuteTime": {
     "end_time": "2023-12-10T12:28:16.662741600Z",
     "start_time": "2023-12-10T12:28:16.636565900Z"
    }
   },
   "id": "b9f37e26f1a6929c"
  },
  {
   "cell_type": "code",
   "execution_count": 98,
   "outputs": [],
   "source": [
    "dateset = np.loadtxt('car.data',dtype=np.str_,delimiter=',')"
   ],
   "metadata": {
    "collapsed": false,
    "ExecuteTime": {
     "end_time": "2023-12-10T12:28:16.754308100Z",
     "start_time": "2023-12-10T12:28:16.665742300Z"
    }
   },
   "id": "b94303736e2f89a"
  },
  {
   "cell_type": "code",
   "execution_count": 99,
   "outputs": [
    {
     "data": {
      "text/plain": "array([['vhigh', 'vhigh', '2', ..., 'small', 'low', 'unacc'],\n       ['vhigh', 'vhigh', '2', ..., 'small', 'med', 'unacc'],\n       ['vhigh', 'vhigh', '2', ..., 'small', 'high', 'unacc'],\n       ...,\n       ['low', 'low', '5more', ..., 'big', 'low', 'unacc'],\n       ['low', 'low', '5more', ..., 'big', 'med', 'good'],\n       ['low', 'low', '5more', ..., 'big', 'high', 'vgood']], dtype='<U5')"
     },
     "execution_count": 99,
     "metadata": {},
     "output_type": "execute_result"
    }
   ],
   "source": [
    "dateset"
   ],
   "metadata": {
    "collapsed": false,
    "ExecuteTime": {
     "end_time": "2023-12-10T12:28:16.781677600Z",
     "start_time": "2023-12-10T12:28:16.756304400Z"
    }
   },
   "id": "3363d88addbc9574"
  },
  {
   "cell_type": "code",
   "execution_count": 100,
   "outputs": [],
   "source": [
    "from sklearn.preprocessing import LabelEncoder"
   ],
   "metadata": {
    "collapsed": false,
    "ExecuteTime": {
     "end_time": "2023-12-10T12:28:16.803866200Z",
     "start_time": "2023-12-10T12:28:16.784088800Z"
    }
   },
   "id": "db6cf11287e9c694"
  },
  {
   "cell_type": "code",
   "execution_count": 101,
   "outputs": [],
   "source": [
    "le = LabelEncoder()"
   ],
   "metadata": {
    "collapsed": false,
    "ExecuteTime": {
     "end_time": "2023-12-10T12:28:16.840759600Z",
     "start_time": "2023-12-10T12:28:16.806328400Z"
    }
   },
   "id": "421f0f50e780fbbb"
  },
  {
   "cell_type": "code",
   "execution_count": 102,
   "outputs": [],
   "source": [
    "#取最后一列\n",
    "res = le.fit_transform(dateset[:,-1])"
   ],
   "metadata": {
    "collapsed": false,
    "ExecuteTime": {
     "end_time": "2023-12-10T12:28:16.843360900Z",
     "start_time": "2023-12-10T12:28:16.827066600Z"
    }
   },
   "id": "ba6538373b12e6c7"
  },
  {
   "cell_type": "code",
   "execution_count": 103,
   "outputs": [],
   "source": [
    "def covert(col,value_name_list):\n",
    "    le = LabelEncoder()\n",
    "    res = le.fit_transform(col)\n",
    "    value_name_list.append(le.classes_)\n",
    "    return res"
   ],
   "metadata": {
    "collapsed": false,
    "ExecuteTime": {
     "end_time": "2023-12-10T12:28:16.864211500Z",
     "start_time": "2023-12-10T12:28:16.846162900Z"
    }
   },
   "id": "7ddd53ed6109089b"
  },
  {
   "cell_type": "code",
   "execution_count": 104,
   "outputs": [],
   "source": [
    "value_name_list = []"
   ],
   "metadata": {
    "collapsed": false,
    "ExecuteTime": {
     "end_time": "2023-12-10T12:28:16.865207400Z",
     "start_time": "2023-12-10T12:28:16.848389100Z"
    }
   },
   "id": "b145f3238c20a016"
  },
  {
   "cell_type": "code",
   "execution_count": 105,
   "outputs": [],
   "source": [
    "dataset=np.apply_along_axis(covert,axis=0,arr=dateset,value_name_list=value_name_list)#将函数应用到数组的每一行，apply_along_axis是对数组的操作，axis=0是对列操作，axis=1是对行操作"
   ],
   "metadata": {
    "collapsed": false,
    "ExecuteTime": {
     "end_time": "2023-12-10T12:28:16.883733900Z",
     "start_time": "2023-12-10T12:28:16.868206700Z"
    }
   },
   "id": "75dd58d95d278b27"
  },
  {
   "cell_type": "code",
   "execution_count": 106,
   "outputs": [
    {
     "data": {
      "text/plain": "array([[3, 3, 0, ..., 2, 1, 2],\n       [3, 3, 0, ..., 2, 2, 2],\n       [3, 3, 0, ..., 2, 0, 2],\n       ...,\n       [1, 1, 3, ..., 0, 1, 2],\n       [1, 1, 3, ..., 0, 2, 1],\n       [1, 1, 3, ..., 0, 0, 3]], dtype=int64)"
     },
     "execution_count": 106,
     "metadata": {},
     "output_type": "execute_result"
    }
   ],
   "source": [
    "dataset"
   ],
   "metadata": {
    "collapsed": false,
    "ExecuteTime": {
     "end_time": "2023-12-10T12:28:16.917352200Z",
     "start_time": "2023-12-10T12:28:16.886733400Z"
    }
   },
   "id": "9b11cc8b77b076b"
  },
  {
   "cell_type": "code",
   "execution_count": 107,
   "outputs": [
    {
     "data": {
      "text/plain": "[array(['high', 'low', 'med', 'vhigh'], dtype='<U5'),\n array(['high', 'low', 'med', 'vhigh'], dtype='<U5'),\n array(['2', '3', '4', '5more'], dtype='<U5'),\n array(['2', '4', 'more'], dtype='<U5'),\n array(['big', 'med', 'small'], dtype='<U5'),\n array(['high', 'low', 'med'], dtype='<U5'),\n array(['acc', 'good', 'unacc', 'vgood'], dtype='<U5')]"
     },
     "execution_count": 107,
     "metadata": {},
     "output_type": "execute_result"
    }
   ],
   "source": [
    "value_name_list#include 6 list"
   ],
   "metadata": {
    "collapsed": false,
    "ExecuteTime": {
     "end_time": "2023-12-10T12:28:16.918431700Z",
     "start_time": "2023-12-10T12:28:16.891404800Z"
    }
   },
   "id": "47692b5149081a29"
  },
  {
   "cell_type": "code",
   "execution_count": 108,
   "outputs": [],
   "source": [
    "X=dataset[:,:-1]"
   ],
   "metadata": {
    "collapsed": false,
    "ExecuteTime": {
     "end_time": "2023-12-10T12:28:16.921497500Z",
     "start_time": "2023-12-10T12:28:16.905345200Z"
    }
   },
   "id": "ac5e3621519039b2"
  },
  {
   "cell_type": "code",
   "execution_count": 109,
   "outputs": [],
   "source": [
    "y=dataset[:,-1]"
   ],
   "metadata": {
    "collapsed": false,
    "ExecuteTime": {
     "end_time": "2023-12-10T12:28:16.933248800Z",
     "start_time": "2023-12-10T12:28:16.923739200Z"
    }
   },
   "id": "c03addfbe6fdb219"
  },
  {
   "cell_type": "code",
   "execution_count": 110,
   "outputs": [
    {
     "data": {
      "text/plain": "array([[3, 3, 0, 0, 2, 1],\n       [3, 3, 0, 0, 2, 2],\n       [3, 3, 0, 0, 2, 0],\n       ...,\n       [1, 1, 3, 2, 0, 1],\n       [1, 1, 3, 2, 0, 2],\n       [1, 1, 3, 2, 0, 0]], dtype=int64)"
     },
     "execution_count": 110,
     "metadata": {},
     "output_type": "execute_result"
    }
   ],
   "source": [
    "X"
   ],
   "metadata": {
    "collapsed": false,
    "ExecuteTime": {
     "end_time": "2023-12-10T12:28:16.961289500Z",
     "start_time": "2023-12-10T12:28:16.936695700Z"
    }
   },
   "id": "a27ebf2124e9f8a1"
  },
  {
   "cell_type": "code",
   "execution_count": 111,
   "outputs": [
    {
     "data": {
      "text/plain": "array([2, 2, 2, ..., 2, 1, 3], dtype=int64)"
     },
     "execution_count": 111,
     "metadata": {},
     "output_type": "execute_result"
    }
   ],
   "source": [
    "y"
   ],
   "metadata": {
    "collapsed": false,
    "ExecuteTime": {
     "end_time": "2023-12-10T12:28:16.982448200Z",
     "start_time": "2023-12-10T12:28:16.963282500Z"
    }
   },
   "id": "fa676c4bd6191c3e"
  },
  {
   "cell_type": "code",
   "execution_count": 112,
   "outputs": [],
   "source": [
    "from sklearn.tree import DecisionTreeClassifier\n",
    "\n",
    "clf=DecisionTreeClassifier(criterion='gini',max_depth=6)"
   ],
   "metadata": {
    "collapsed": false,
    "ExecuteTime": {
     "end_time": "2023-12-10T12:28:17.010194300Z",
     "start_time": "2023-12-10T12:28:16.984857500Z"
    }
   },
   "id": "d0dd21d7d042a659"
  },
  {
   "cell_type": "code",
   "execution_count": 113,
   "outputs": [],
   "source": [
    "from sklearn.model_selection import train_test_split"
   ],
   "metadata": {
    "collapsed": false,
    "ExecuteTime": {
     "end_time": "2023-12-10T12:28:17.011191Z",
     "start_time": "2023-12-10T12:28:16.986863100Z"
    }
   },
   "id": "85da19a5a3c24eb9"
  },
  {
   "cell_type": "code",
   "execution_count": 114,
   "outputs": [],
   "source": [
    "X_train,X_test,y_train,y_test=train_test_split(X,y,test_size=0.3,random_state=0)"
   ],
   "metadata": {
    "collapsed": false,
    "ExecuteTime": {
     "end_time": "2023-12-10T12:28:17.024996900Z",
     "start_time": "2023-12-10T12:28:17.014478Z"
    }
   },
   "id": "5b473eed726cad53"
  },
  {
   "cell_type": "code",
   "execution_count": 115,
   "outputs": [
    {
     "data": {
      "text/plain": "DecisionTreeClassifier(max_depth=6)",
      "text/html": "<style>#sk-container-id-4 {color: black;}#sk-container-id-4 pre{padding: 0;}#sk-container-id-4 div.sk-toggleable {background-color: white;}#sk-container-id-4 label.sk-toggleable__label {cursor: pointer;display: block;width: 100%;margin-bottom: 0;padding: 0.3em;box-sizing: border-box;text-align: center;}#sk-container-id-4 label.sk-toggleable__label-arrow:before {content: \"▸\";float: left;margin-right: 0.25em;color: #696969;}#sk-container-id-4 label.sk-toggleable__label-arrow:hover:before {color: black;}#sk-container-id-4 div.sk-estimator:hover label.sk-toggleable__label-arrow:before {color: black;}#sk-container-id-4 div.sk-toggleable__content {max-height: 0;max-width: 0;overflow: hidden;text-align: left;background-color: #f0f8ff;}#sk-container-id-4 div.sk-toggleable__content pre {margin: 0.2em;color: black;border-radius: 0.25em;background-color: #f0f8ff;}#sk-container-id-4 input.sk-toggleable__control:checked~div.sk-toggleable__content {max-height: 200px;max-width: 100%;overflow: auto;}#sk-container-id-4 input.sk-toggleable__control:checked~label.sk-toggleable__label-arrow:before {content: \"▾\";}#sk-container-id-4 div.sk-estimator input.sk-toggleable__control:checked~label.sk-toggleable__label {background-color: #d4ebff;}#sk-container-id-4 div.sk-label input.sk-toggleable__control:checked~label.sk-toggleable__label {background-color: #d4ebff;}#sk-container-id-4 input.sk-hidden--visually {border: 0;clip: rect(1px 1px 1px 1px);clip: rect(1px, 1px, 1px, 1px);height: 1px;margin: -1px;overflow: hidden;padding: 0;position: absolute;width: 1px;}#sk-container-id-4 div.sk-estimator {font-family: monospace;background-color: #f0f8ff;border: 1px dotted black;border-radius: 0.25em;box-sizing: border-box;margin-bottom: 0.5em;}#sk-container-id-4 div.sk-estimator:hover {background-color: #d4ebff;}#sk-container-id-4 div.sk-parallel-item::after {content: \"\";width: 100%;border-bottom: 1px solid gray;flex-grow: 1;}#sk-container-id-4 div.sk-label:hover label.sk-toggleable__label {background-color: #d4ebff;}#sk-container-id-4 div.sk-serial::before {content: \"\";position: absolute;border-left: 1px solid gray;box-sizing: border-box;top: 0;bottom: 0;left: 50%;z-index: 0;}#sk-container-id-4 div.sk-serial {display: flex;flex-direction: column;align-items: center;background-color: white;padding-right: 0.2em;padding-left: 0.2em;position: relative;}#sk-container-id-4 div.sk-item {position: relative;z-index: 1;}#sk-container-id-4 div.sk-parallel {display: flex;align-items: stretch;justify-content: center;background-color: white;position: relative;}#sk-container-id-4 div.sk-item::before, #sk-container-id-4 div.sk-parallel-item::before {content: \"\";position: absolute;border-left: 1px solid gray;box-sizing: border-box;top: 0;bottom: 0;left: 50%;z-index: -1;}#sk-container-id-4 div.sk-parallel-item {display: flex;flex-direction: column;z-index: 1;position: relative;background-color: white;}#sk-container-id-4 div.sk-parallel-item:first-child::after {align-self: flex-end;width: 50%;}#sk-container-id-4 div.sk-parallel-item:last-child::after {align-self: flex-start;width: 50%;}#sk-container-id-4 div.sk-parallel-item:only-child::after {width: 0;}#sk-container-id-4 div.sk-dashed-wrapped {border: 1px dashed gray;margin: 0 0.4em 0.5em 0.4em;box-sizing: border-box;padding-bottom: 0.4em;background-color: white;}#sk-container-id-4 div.sk-label label {font-family: monospace;font-weight: bold;display: inline-block;line-height: 1.2em;}#sk-container-id-4 div.sk-label-container {text-align: center;}#sk-container-id-4 div.sk-container {/* jupyter's `normalize.less` sets `[hidden] { display: none; }` but bootstrap.min.css set `[hidden] { display: none !important; }` so we also need the `!important` here to be able to override the default hidden behavior on the sphinx rendered scikit-learn.org. See: https://github.com/scikit-learn/scikit-learn/issues/21755 */display: inline-block !important;position: relative;}#sk-container-id-4 div.sk-text-repr-fallback {display: none;}</style><div id=\"sk-container-id-4\" class=\"sk-top-container\"><div class=\"sk-text-repr-fallback\"><pre>DecisionTreeClassifier(max_depth=6)</pre><b>In a Jupyter environment, please rerun this cell to show the HTML representation or trust the notebook. <br />On GitHub, the HTML representation is unable to render, please try loading this page with nbviewer.org.</b></div><div class=\"sk-container\" hidden><div class=\"sk-item\"><div class=\"sk-estimator sk-toggleable\"><input class=\"sk-toggleable__control sk-hidden--visually\" id=\"sk-estimator-id-4\" type=\"checkbox\" checked><label for=\"sk-estimator-id-4\" class=\"sk-toggleable__label sk-toggleable__label-arrow\">DecisionTreeClassifier</label><div class=\"sk-toggleable__content\"><pre>DecisionTreeClassifier(max_depth=6)</pre></div></div></div></div></div>"
     },
     "execution_count": 115,
     "metadata": {},
     "output_type": "execute_result"
    }
   ],
   "source": [
    "clf.fit(X_train,y_train)"
   ],
   "metadata": {
    "collapsed": false,
    "ExecuteTime": {
     "end_time": "2023-12-10T12:28:17.025996300Z",
     "start_time": "2023-12-10T12:28:17.017624200Z"
    }
   },
   "id": "4fca977c4e060bf"
  },
  {
   "cell_type": "code",
   "execution_count": 116,
   "outputs": [],
   "source": [
    "from sklearn import tree"
   ],
   "metadata": {
    "collapsed": false,
    "ExecuteTime": {
     "end_time": "2023-12-10T12:28:17.041032500Z",
     "start_time": "2023-12-10T12:28:17.028314600Z"
    }
   },
   "id": "7f4e3ae4d09c1b39"
  },
  {
   "cell_type": "code",
   "execution_count": 117,
   "outputs": [
    {
     "data": {
      "text/plain": "[Text(0.521551724137931, 0.9285714285714286, 'x[3] <= 0.5\\ngini = 0.457\\nsamples = 1209\\nvalue = [269, 44, 847, 49]'),\n Text(0.4870689655172414, 0.7857142857142857, 'gini = 0.0\\nsamples = 400\\nvalue = [0, 0, 400, 0]'),\n Text(0.5560344827586207, 0.7857142857142857, 'x[5] <= 0.5\\ngini = 0.578\\nsamples = 809\\nvalue = [269, 44, 447, 49]'),\n Text(0.33620689655172414, 0.6428571428571429, 'x[0] <= 2.5\\ngini = 0.629\\nsamples = 270\\nvalue = [145, 19, 57, 49]'),\n Text(0.1896551724137931, 0.5, 'x[0] <= 0.5\\ngini = 0.614\\nsamples = 196\\nvalue = [108, 19, 20, 49]'),\n Text(0.10344827586206896, 0.35714285714285715, 'x[1] <= 2.5\\ngini = 0.334\\nsamples = 66\\nvalue = [52, 0, 14, 0]'),\n Text(0.06896551724137931, 0.21428571428571427, 'x[2] <= 0.5\\ngini = 0.071\\nsamples = 54\\nvalue = [52, 0, 2, 0]'),\n Text(0.034482758620689655, 0.07142857142857142, 'gini = 0.26\\nsamples = 13\\nvalue = [11, 0, 2, 0]'),\n Text(0.10344827586206896, 0.07142857142857142, 'gini = 0.0\\nsamples = 41\\nvalue = [41, 0, 0, 0]'),\n Text(0.13793103448275862, 0.21428571428571427, 'gini = 0.0\\nsamples = 12\\nvalue = [0, 0, 12, 0]'),\n Text(0.27586206896551724, 0.35714285714285715, 'x[1] <= 2.5\\ngini = 0.649\\nsamples = 130\\nvalue = [56, 19, 6, 49]'),\n Text(0.20689655172413793, 0.21428571428571427, 'x[4] <= 1.5\\ngini = 0.651\\nsamples = 102\\nvalue = [29, 19, 5, 49]'),\n Text(0.1724137931034483, 0.07142857142857142, 'gini = 0.453\\nsamples = 70\\nvalue = [16, 5, 0, 49]'),\n Text(0.2413793103448276, 0.07142857142857142, 'gini = 0.619\\nsamples = 32\\nvalue = [13, 14, 5, 0]'),\n Text(0.3448275862068966, 0.21428571428571427, 'x[2] <= 0.5\\ngini = 0.069\\nsamples = 28\\nvalue = [27, 0, 1, 0]'),\n Text(0.3103448275862069, 0.07142857142857142, 'gini = 0.32\\nsamples = 5\\nvalue = [4, 0, 1, 0]'),\n Text(0.3793103448275862, 0.07142857142857142, 'gini = 0.0\\nsamples = 23\\nvalue = [23, 0, 0, 0]'),\n Text(0.4827586206896552, 0.5, 'x[1] <= 0.5\\ngini = 0.5\\nsamples = 74\\nvalue = [37, 0, 37, 0]'),\n Text(0.4482758620689655, 0.35714285714285715, 'gini = 0.0\\nsamples = 19\\nvalue = [0, 0, 19, 0]'),\n Text(0.5172413793103449, 0.35714285714285715, 'x[1] <= 2.5\\ngini = 0.44\\nsamples = 55\\nvalue = [37, 0, 18, 0]'),\n Text(0.4827586206896552, 0.21428571428571427, 'x[2] <= 0.5\\ngini = 0.097\\nsamples = 39\\nvalue = [37, 0, 2, 0]'),\n Text(0.4482758620689655, 0.07142857142857142, 'gini = 0.346\\nsamples = 9\\nvalue = [7, 0, 2, 0]'),\n Text(0.5172413793103449, 0.07142857142857142, 'gini = 0.0\\nsamples = 30\\nvalue = [30, 0, 0, 0]'),\n Text(0.5517241379310345, 0.21428571428571427, 'gini = 0.0\\nsamples = 16\\nvalue = [0, 0, 16, 0]'),\n Text(0.7758620689655172, 0.6428571428571429, 'x[5] <= 1.5\\ngini = 0.421\\nsamples = 539\\nvalue = [124, 25, 390, 0]'),\n Text(0.7413793103448276, 0.5, 'gini = 0.0\\nsamples = 274\\nvalue = [0, 0, 274, 0]'),\n Text(0.8103448275862069, 0.5, 'x[4] <= 1.5\\ngini = 0.581\\nsamples = 265\\nvalue = [124, 25, 116, 0]'),\n Text(0.6896551724137931, 0.35714285714285715, 'x[1] <= 2.5\\ngini = 0.564\\nsamples = 167\\nvalue = [98, 25, 44, 0]'),\n Text(0.6206896551724138, 0.21428571428571427, 'x[1] <= 0.5\\ngini = 0.512\\nsamples = 127\\nvalue = [83, 25, 19, 0]'),\n Text(0.5862068965517241, 0.07142857142857142, 'gini = 0.363\\nsamples = 42\\nvalue = [32, 0, 10, 0]'),\n Text(0.6551724137931034, 0.07142857142857142, 'gini = 0.542\\nsamples = 85\\nvalue = [51, 25, 9, 0]'),\n Text(0.7586206896551724, 0.21428571428571427, 'x[0] <= 2.5\\ngini = 0.469\\nsamples = 40\\nvalue = [15, 0, 25, 0]'),\n Text(0.7241379310344828, 0.07142857142857142, 'gini = 0.494\\nsamples = 27\\nvalue = [15, 0, 12, 0]'),\n Text(0.7931034482758621, 0.07142857142857142, 'gini = 0.0\\nsamples = 13\\nvalue = [0, 0, 13, 0]'),\n Text(0.9310344827586207, 0.35714285714285715, 'x[0] <= 2.5\\ngini = 0.39\\nsamples = 98\\nvalue = [26, 0, 72, 0]'),\n Text(0.896551724137931, 0.21428571428571427, 'x[0] <= 0.5\\ngini = 0.461\\nsamples = 72\\nvalue = [26, 0, 46, 0]'),\n Text(0.8620689655172413, 0.07142857142857142, 'gini = 0.0\\nsamples = 23\\nvalue = [0, 0, 23, 0]'),\n Text(0.9310344827586207, 0.07142857142857142, 'gini = 0.498\\nsamples = 49\\nvalue = [26, 0, 23, 0]'),\n Text(0.9655172413793104, 0.21428571428571427, 'gini = 0.0\\nsamples = 26\\nvalue = [0, 0, 26, 0]')]"
     },
     "execution_count": 117,
     "metadata": {},
     "output_type": "execute_result"
    },
    {
     "data": {
      "text/plain": "<Figure size 640x480 with 1 Axes>",
      "image/png": "[encoded data removed]"
     },
     "metadata": {},
     "output_type": "display_data"
    }
   ],
   "source": [
    "tree.plot_tree(clf)"
   ],
   "metadata": {
    "collapsed": false,
    "ExecuteTime": {
     "end_time": "2023-12-10T12:28:18.108071300Z",
     "start_time": "2023-12-10T12:28:17.043653700Z"
    }
   },
   "id": "42eae6b21747ac77"
  },
  {
   "cell_type": "code",
   "execution_count": 118,
   "outputs": [],
   "source": [
    "from sklearn.tree import export_graphviz\n"
   ],
   "metadata": {
    "collapsed": false,
    "ExecuteTime": {
     "end_time": "2023-12-10T12:28:18.109132800Z",
     "start_time": "2023-12-10T12:28:18.104596200Z"
    }
   },
   "id": "5e6d9493009bc550"
  },
  {
   "cell_type": "code",
   "execution_count": 119,
   "outputs": [],
   "source": [
    "dot_car=export_graphviz(clf,out_file=None,feature_names=[\"buying\",\"maint\",\"doors\",\"persons\",\"lug_boot\",\"safety\"],class_names=le.classes_,filled=True,rounded=True)"
   ],
   "metadata": {
    "collapsed": false,
    "ExecuteTime": {
     "end_time": "2023-12-10T12:28:18.118311500Z",
     "start_time": "2023-12-10T12:28:18.109132800Z"
    }
   },
   "id": "294499dcdc97c708"
  },
  {
   "cell_type": "code",
   "execution_count": 120,
   "outputs": [],
   "source": [
    "import graphviz\n",
    "graph_car=graphviz.Source(dot_car)"
   ],
   "metadata": {
    "collapsed": false,
    "ExecuteTime": {
     "end_time": "2023-12-10T12:28:18.130079800Z",
     "start_time": "2023-12-10T12:28:18.119312600Z"
    }
   },
   "id": "d981aaebc37db879"
  },
  {
   "cell_type": "code",
   "execution_count": 121,
   "outputs": [],
   "source": [
    "#生成pdf"
   ],
   "metadata": {
    "collapsed": false,
    "ExecuteTime": {
     "end_time": "2023-12-10T12:28:18.130079800Z",
     "start_time": "2023-12-10T12:28:18.122483300Z"
    }
   },
   "id": "1111de9dc1b77fe3"
  },
  {
   "cell_type": "code",
   "execution_count": 122,
   "outputs": [
    {
     "data": {
      "text/plain": "'car.pdf'"
     },
     "execution_count": 122,
     "metadata": {},
     "output_type": "execute_result"
    }
   ],
   "source": [
    "graph_car.render('car')"
   ],
   "metadata": {
    "collapsed": false,
    "ExecuteTime": {
     "end_time": "2023-12-10T12:28:18.322001600Z",
     "start_time": "2023-12-10T12:28:18.127077300Z"
    }
   },
   "id": "aae7ba12429c40e7"
  },
  {
   "cell_type": "code",
   "execution_count": 122,
   "outputs": [],
   "source": [],
   "metadata": {
    "collapsed": false,
    "ExecuteTime": {
     "end_time": "2023-12-10T12:28:18.335108400Z",
     "start_time": "2023-12-10T12:28:18.322001600Z"
    }
   },
   "id": "d11d3cd54c53f35"
  },
  {
   "cell_type": "code",
   "execution_count": 123,
   "outputs": [],
   "source": [
    "from sklearn.metrics import accuracy_score"
   ],
   "metadata": {
    "collapsed": false,
    "ExecuteTime": {
     "end_time": "2023-12-10T12:28:18.337106600Z",
     "start_time": "2023-12-10T12:28:18.324544500Z"
    }
   },
   "id": "65e4b645a2af4ea0"
  },
  {
   "cell_type": "code",
   "execution_count": 124,
   "outputs": [],
   "source": [
    "y_pred=clf.predict(X_test)"
   ],
   "metadata": {
    "collapsed": false,
    "ExecuteTime": {
     "end_time": "2023-12-10T12:28:18.338107300Z",
     "start_time": "2023-12-10T12:28:18.327827700Z"
    }
   },
   "id": "4839405dd7d51069"
  },
  {
   "cell_type": "code",
   "execution_count": 125,
   "outputs": [
    {
     "data": {
      "text/plain": "array([0, 0, 2, 2, 2, 3, 2, 0, 0, 0, 2, 2, 0, 2, 2, 0, 2, 2, 0, 0, 3, 0,\n       0, 2, 2, 2, 2, 2, 2, 2, 3, 0, 2, 0, 0, 2, 0, 2, 2, 2, 0, 2, 0, 2,\n       3, 2, 0, 0, 2, 2, 2, 0, 2, 2, 2, 2, 2, 2, 2, 0, 1, 0, 2, 2, 0, 0,\n       2, 2, 2, 2, 2, 0, 0, 0, 0, 0, 2, 0, 0, 2, 0, 0, 0, 0, 2, 2, 2, 0,\n       2, 2, 2, 3, 0, 2, 2, 3, 2, 0, 0, 0, 2, 0, 1, 2, 3, 0, 2, 0, 2, 2,\n       2, 2, 2, 0, 2, 3, 0, 2, 2, 2, 2, 2, 3, 2, 2, 2, 2, 0, 0, 2, 2, 2,\n       0, 2, 0, 2, 2, 2, 2, 2, 2, 2, 2, 0, 2, 2, 0, 2, 0, 0, 0, 0, 2, 2,\n       2, 0, 2, 2, 2, 2, 0, 2, 2, 2, 0, 2, 2, 2, 2, 2, 2, 2, 2, 0, 0, 2,\n       2, 2, 2, 2, 0, 3, 0, 2, 0, 2, 1, 2, 2, 2, 2, 0, 2, 2, 2, 0, 2, 0,\n       2, 0, 2, 2, 1, 2, 2, 2, 2, 2, 2, 2, 2, 0, 2, 2, 2, 2, 2, 0, 2, 2,\n       2, 0, 2, 3, 2, 2, 2, 3, 2, 2, 2, 2, 0, 2, 2, 2, 0, 2, 2, 2, 2, 2,\n       2, 2, 1, 2, 0, 2, 2, 2, 2, 2, 1, 1, 3, 1, 0, 2, 2, 2, 0, 2, 0, 3,\n       2, 2, 3, 2, 0, 2, 2, 2, 0, 2, 0, 2, 2, 2, 0, 2, 2, 2, 0, 2, 2, 0,\n       2, 3, 0, 2, 2, 2, 2, 0, 2, 2, 2, 2, 2, 0, 2, 0, 0, 0, 0, 2, 0, 2,\n       0, 2, 1, 0, 2, 0, 2, 0, 0, 2, 2, 0, 2, 2, 0, 2, 0, 0, 2, 2, 2, 2,\n       0, 2, 0, 2, 0, 2, 0, 0, 3, 2, 2, 3, 2, 0, 2, 0, 2, 2, 2, 2, 0, 2,\n       2, 0, 2, 2, 2, 0, 2, 0, 2, 0, 2, 2, 1, 3, 0, 0, 2, 3, 2, 2, 2, 0,\n       2, 2, 2, 0, 2, 0, 0, 2, 0, 2, 2, 2, 0, 2, 2, 2, 2, 2, 2, 3, 2, 2,\n       0, 2, 2, 0, 0, 0, 2, 2, 3, 2, 2, 2, 2, 0, 2, 2, 2, 0, 2, 2, 0, 0,\n       2, 0, 2, 0, 3, 2, 2, 2, 3, 2, 2, 0, 2, 3, 2, 2, 2, 2, 2, 2, 1, 0,\n       1, 2, 2, 2, 2, 2, 0, 2, 2, 2, 2, 1, 2, 2, 2, 2, 2, 2, 2, 2, 2, 2,\n       2, 2, 2, 0, 1, 2, 0, 0, 2, 2, 0, 2, 2, 2, 2, 0, 1, 2, 2, 2, 2, 0,\n       0, 2, 2, 2, 2, 2, 2, 2, 2, 0, 0, 2, 2, 1, 0, 2, 0, 2, 0, 0, 2, 0,\n       2, 2, 2, 2, 0, 2, 2, 2, 2, 2, 2, 3, 0], dtype=int64)"
     },
     "execution_count": 125,
     "metadata": {},
     "output_type": "execute_result"
    }
   ],
   "source": [
    "y_pred"
   ],
   "metadata": {
    "collapsed": false,
    "ExecuteTime": {
     "end_time": "2023-12-10T12:28:18.370590900Z",
     "start_time": "2023-12-10T12:28:18.336106800Z"
    }
   },
   "id": "dd6b70f447e025cc"
  },
  {
   "cell_type": "code",
   "execution_count": 126,
   "outputs": [],
   "source": [
    "y_pred_inverse=le.inverse_transform(y_pred)"
   ],
   "metadata": {
    "collapsed": false,
    "ExecuteTime": {
     "end_time": "2023-12-10T12:28:18.372598Z",
     "start_time": "2023-12-10T12:28:18.343702200Z"
    }
   },
   "id": "cc0b0170f2e8f70f"
  },
  {
   "cell_type": "code",
   "execution_count": 127,
   "outputs": [
    {
     "data": {
      "text/plain": "array(['acc', 'acc', 'unacc', 'unacc', 'unacc', 'vgood', 'unacc', 'acc',\n       'acc', 'acc', 'unacc', 'unacc', 'acc', 'unacc', 'unacc', 'acc',\n       'unacc', 'unacc', 'acc', 'acc', 'vgood', 'acc', 'acc', 'unacc',\n       'unacc', 'unacc', 'unacc', 'unacc', 'unacc', 'unacc', 'vgood',\n       'acc', 'unacc', 'acc', 'acc', 'unacc', 'acc', 'unacc', 'unacc',\n       'unacc', 'acc', 'unacc', 'acc', 'unacc', 'vgood', 'unacc', 'acc',\n       'acc', 'unacc', 'unacc', 'unacc', 'acc', 'unacc', 'unacc', 'unacc',\n       'unacc', 'unacc', 'unacc', 'unacc', 'acc', 'good', 'acc', 'unacc',\n       'unacc', 'acc', 'acc', 'unacc', 'unacc', 'unacc', 'unacc', 'unacc',\n       'acc', 'acc', 'acc', 'acc', 'acc', 'unacc', 'acc', 'acc', 'unacc',\n       'acc', 'acc', 'acc', 'acc', 'unacc', 'unacc', 'unacc', 'acc',\n       'unacc', 'unacc', 'unacc', 'vgood', 'acc', 'unacc', 'unacc',\n       'vgood', 'unacc', 'acc', 'acc', 'acc', 'unacc', 'acc', 'good',\n       'unacc', 'vgood', 'acc', 'unacc', 'acc', 'unacc', 'unacc', 'unacc',\n       'unacc', 'unacc', 'acc', 'unacc', 'vgood', 'acc', 'unacc', 'unacc',\n       'unacc', 'unacc', 'unacc', 'vgood', 'unacc', 'unacc', 'unacc',\n       'unacc', 'acc', 'acc', 'unacc', 'unacc', 'unacc', 'acc', 'unacc',\n       'acc', 'unacc', 'unacc', 'unacc', 'unacc', 'unacc', 'unacc',\n       'unacc', 'unacc', 'acc', 'unacc', 'unacc', 'acc', 'unacc', 'acc',\n       'acc', 'acc', 'acc', 'unacc', 'unacc', 'unacc', 'acc', 'unacc',\n       'unacc', 'unacc', 'unacc', 'acc', 'unacc', 'unacc', 'unacc', 'acc',\n       'unacc', 'unacc', 'unacc', 'unacc', 'unacc', 'unacc', 'unacc',\n       'unacc', 'acc', 'acc', 'unacc', 'unacc', 'unacc', 'unacc', 'unacc',\n       'acc', 'vgood', 'acc', 'unacc', 'acc', 'unacc', 'good', 'unacc',\n       'unacc', 'unacc', 'unacc', 'acc', 'unacc', 'unacc', 'unacc', 'acc',\n       'unacc', 'acc', 'unacc', 'acc', 'unacc', 'unacc', 'good', 'unacc',\n       'unacc', 'unacc', 'unacc', 'unacc', 'unacc', 'unacc', 'unacc',\n       'acc', 'unacc', 'unacc', 'unacc', 'unacc', 'unacc', 'acc', 'unacc',\n       'unacc', 'unacc', 'acc', 'unacc', 'vgood', 'unacc', 'unacc',\n       'unacc', 'vgood', 'unacc', 'unacc', 'unacc', 'unacc', 'acc',\n       'unacc', 'unacc', 'unacc', 'acc', 'unacc', 'unacc', 'unacc',\n       'unacc', 'unacc', 'unacc', 'unacc', 'good', 'unacc', 'acc',\n       'unacc', 'unacc', 'unacc', 'unacc', 'unacc', 'good', 'good',\n       'vgood', 'good', 'acc', 'unacc', 'unacc', 'unacc', 'acc', 'unacc',\n       'acc', 'vgood', 'unacc', 'unacc', 'vgood', 'unacc', 'acc', 'unacc',\n       'unacc', 'unacc', 'acc', 'unacc', 'acc', 'unacc', 'unacc', 'unacc',\n       'acc', 'unacc', 'unacc', 'unacc', 'acc', 'unacc', 'unacc', 'acc',\n       'unacc', 'vgood', 'acc', 'unacc', 'unacc', 'unacc', 'unacc', 'acc',\n       'unacc', 'unacc', 'unacc', 'unacc', 'unacc', 'acc', 'unacc', 'acc',\n       'acc', 'acc', 'acc', 'unacc', 'acc', 'unacc', 'acc', 'unacc',\n       'good', 'acc', 'unacc', 'acc', 'unacc', 'acc', 'acc', 'unacc',\n       'unacc', 'acc', 'unacc', 'unacc', 'acc', 'unacc', 'acc', 'acc',\n       'unacc', 'unacc', 'unacc', 'unacc', 'acc', 'unacc', 'acc', 'unacc',\n       'acc', 'unacc', 'acc', 'acc', 'vgood', 'unacc', 'unacc', 'vgood',\n       'unacc', 'acc', 'unacc', 'acc', 'unacc', 'unacc', 'unacc', 'unacc',\n       'acc', 'unacc', 'unacc', 'acc', 'unacc', 'unacc', 'unacc', 'acc',\n       'unacc', 'acc', 'unacc', 'acc', 'unacc', 'unacc', 'good', 'vgood',\n       'acc', 'acc', 'unacc', 'vgood', 'unacc', 'unacc', 'unacc', 'acc',\n       'unacc', 'unacc', 'unacc', 'acc', 'unacc', 'acc', 'acc', 'unacc',\n       'acc', 'unacc', 'unacc', 'unacc', 'acc', 'unacc', 'unacc', 'unacc',\n       'unacc', 'unacc', 'unacc', 'vgood', 'unacc', 'unacc', 'acc',\n       'unacc', 'unacc', 'acc', 'acc', 'acc', 'unacc', 'unacc', 'vgood',\n       'unacc', 'unacc', 'unacc', 'unacc', 'acc', 'unacc', 'unacc',\n       'unacc', 'acc', 'unacc', 'unacc', 'acc', 'acc', 'unacc', 'acc',\n       'unacc', 'acc', 'vgood', 'unacc', 'unacc', 'unacc', 'vgood',\n       'unacc', 'unacc', 'acc', 'unacc', 'vgood', 'unacc', 'unacc',\n       'unacc', 'unacc', 'unacc', 'unacc', 'good', 'acc', 'good', 'unacc',\n       'unacc', 'unacc', 'unacc', 'unacc', 'acc', 'unacc', 'unacc',\n       'unacc', 'unacc', 'good', 'unacc', 'unacc', 'unacc', 'unacc',\n       'unacc', 'unacc', 'unacc', 'unacc', 'unacc', 'unacc', 'unacc',\n       'unacc', 'unacc', 'acc', 'good', 'unacc', 'acc', 'acc', 'unacc',\n       'unacc', 'acc', 'unacc', 'unacc', 'unacc', 'unacc', 'acc', 'good',\n       'unacc', 'unacc', 'unacc', 'unacc', 'acc', 'acc', 'unacc', 'unacc',\n       'unacc', 'unacc', 'unacc', 'unacc', 'unacc', 'unacc', 'acc', 'acc',\n       'unacc', 'unacc', 'good', 'acc', 'unacc', 'acc', 'unacc', 'acc',\n       'acc', 'unacc', 'acc', 'unacc', 'unacc', 'unacc', 'unacc', 'acc',\n       'unacc', 'unacc', 'unacc', 'unacc', 'unacc', 'unacc', 'vgood',\n       'acc'], dtype='<U5')"
     },
     "execution_count": 127,
     "metadata": {},
     "output_type": "execute_result"
    }
   ],
   "source": [
    "y_pred_inverse"
   ],
   "metadata": {
    "collapsed": false,
    "ExecuteTime": {
     "end_time": "2023-12-10T12:28:18.373750400Z",
     "start_time": "2023-12-10T12:28:18.347955300Z"
    }
   },
   "id": "c78070759cf2fcce"
  },
  {
   "cell_type": "code",
   "execution_count": 128,
   "outputs": [
    {
     "data": {
      "text/plain": "0.8728323699421965"
     },
     "execution_count": 128,
     "metadata": {},
     "output_type": "execute_result"
    }
   ],
   "source": [
    "accuracy_score(y_test,y_pred)"
   ],
   "metadata": {
    "collapsed": false,
    "ExecuteTime": {
     "end_time": "2023-12-10T12:28:18.373931100Z",
     "start_time": "2023-12-10T12:28:18.355268300Z"
    }
   },
   "id": "dcfa7e13bb398b0e"
  },
  {
   "cell_type": "code",
   "execution_count": 128,
   "outputs": [],
   "source": [],
   "metadata": {
    "collapsed": false,
    "ExecuteTime": {
     "end_time": "2023-12-10T12:28:18.375017100Z",
     "start_time": "2023-12-10T12:28:18.360580200Z"
    }
   },
   "id": "5380dfb0fedcef56"
  }
 ],
 "metadata": {
  "kernelspec": {
   "display_name": "Python 3",
   "language": "python",
   "name": "python3"
  },
  "language_info": {
   "codemirror_mode": {
    "name": "ipython",
    "version": 2
   },
   "file_extension": ".py",
   "mimetype": "text/x-python",
   "name": "python",
   "nbconvert_exporter": "python",
   "pygments_lexer": "ipython2",
   "version": "2.7.6"
  }
 },
 "nbformat": 4,
 "nbformat_minor": 5
}
