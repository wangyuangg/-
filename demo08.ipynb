{
 "cells": [
  {
   "cell_type": "code",
   "execution_count": 32,
   "id": "initial_id",
   "metadata": {
    "collapsed": true,
    "ExecuteTime": {
     "end_time": "2023-12-10T12:50:25.402340800Z",
     "start_time": "2023-12-10T12:50:25.399831300Z"
    }
   },
   "outputs": [],
   "source": [
    "import numpy as np\n",
    "import pandas as pd\n",
    "from sklearn.preprocessing import StandardScaler, LabelBinarizer\n",
    "from sklearn.neural_network import MLPClassifier\n",
    "from sklearn.model_selection import train_test_split, cross_val_score\n",
    "from sklearn.metrics import accuracy_score"
   ]
  },
  {
   "cell_type": "code",
   "execution_count": 33,
   "outputs": [],
   "source": [
    "train_file = 'optdigits.tra'\n",
    "test_file = 'optdigits.tes'"
   ],
   "metadata": {
    "collapsed": false,
    "ExecuteTime": {
     "end_time": "2023-12-10T12:50:25.406807100Z",
     "start_time": "2023-12-10T12:50:25.405296200Z"
    }
   },
   "id": "a37f3e6f979e9d81"
  },
  {
   "cell_type": "markdown",
   "source": [],
   "metadata": {
    "collapsed": false
   },
   "id": "8d4c15f6903472f1"
  },
  {
   "cell_type": "code",
   "execution_count": 34,
   "outputs": [],
   "source": [
    "train_data = pd.read_csv(train_file, header=None)\n",
    "test_data = pd.read_csv(test_file, header=None)"
   ],
   "metadata": {
    "collapsed": false,
    "ExecuteTime": {
     "end_time": "2023-12-10T12:50:25.434226200Z",
     "start_time": "2023-12-10T12:50:25.408807700Z"
    }
   },
   "id": "234256c423ce1ffc"
  },
  {
   "cell_type": "code",
   "execution_count": 35,
   "outputs": [],
   "source": [
    "X_train = train_data.iloc[:, :-1].values\n",
    "y_train = train_data.iloc[:, -1].values\n",
    "X_test = test_data.iloc[:, :-1].values\n",
    "y_test = test_data.iloc[:, -1].values"
   ],
   "metadata": {
    "collapsed": false,
    "ExecuteTime": {
     "end_time": "2023-12-10T12:50:25.440889400Z",
     "start_time": "2023-12-10T12:50:25.435227900Z"
    }
   },
   "id": "56449270feb01425"
  },
  {
   "cell_type": "code",
   "execution_count": 36,
   "outputs": [],
   "source": [
    "scaler = StandardScaler()\n",
    "X_train = scaler.fit_transform(X_train)\n",
    "X_test = scaler.transform(X_test)"
   ],
   "metadata": {
    "collapsed": false,
    "ExecuteTime": {
     "end_time": "2023-12-10T12:50:25.447512200Z",
     "start_time": "2023-12-10T12:50:25.439887900Z"
    }
   },
   "id": "58e033f17b5f83dd"
  },
  {
   "cell_type": "code",
   "execution_count": 37,
   "outputs": [],
   "source": [
    "label_binarizer = LabelBinarizer()\n",
    "y_train = label_binarizer.fit_transform(y_train)\n",
    "y_test = label_binarizer.transform(y_test)"
   ],
   "metadata": {
    "collapsed": false,
    "ExecuteTime": {
     "end_time": "2023-12-10T12:50:25.454263400Z",
     "start_time": "2023-12-10T12:50:25.449513300Z"
    }
   },
   "id": "60b544c1cb1f3583"
  },
  {
   "cell_type": "code",
   "execution_count": 38,
   "outputs": [],
   "source": [
    " #构建不同超参数设置的模型\n",
    "hidden_layer_sizes_list = [(128,), (64, 32), (256, 128, 64)]\n",
    "activation_list = ['relu', 'tanh']\n",
    "learning_rate_init_list = [0.001, 0.01]"
   ],
   "metadata": {
    "collapsed": false,
    "ExecuteTime": {
     "end_time": "2023-12-10T12:50:25.462359300Z",
     "start_time": "2023-12-10T12:50:25.455239200Z"
    }
   },
   "id": "335a8328363db05"
  },
  {
   "cell_type": "code",
   "execution_count": 39,
   "outputs": [],
   "source": [
    "best_accuracy = 0\n",
    "best_model = None"
   ],
   "metadata": {
    "collapsed": false,
    "ExecuteTime": {
     "end_time": "2023-12-10T12:50:25.467361500Z",
     "start_time": "2023-12-10T12:50:25.457750300Z"
    }
   },
   "id": "cea9dcdb0c0a4822"
  },
  {
   "cell_type": "code",
   "execution_count": 40,
   "outputs": [
    {
     "name": "stdout",
     "output_type": "stream",
     "text": [
      "Hidden Layer Sizes: (128,), Activation: relu, Learning Rate: 0.001\n",
      "Average Cross-Validated Accuracy: 0.9668\n",
      "Hidden Layer Sizes: (128,), Activation: relu, Learning Rate: 0.01\n",
      "Average Cross-Validated Accuracy: 0.9655\n",
      "Hidden Layer Sizes: (128,), Activation: tanh, Learning Rate: 0.001\n",
      "Average Cross-Validated Accuracy: 0.9631\n",
      "Hidden Layer Sizes: (128,), Activation: tanh, Learning Rate: 0.01\n",
      "Average Cross-Validated Accuracy: 0.9642\n",
      "Hidden Layer Sizes: (64, 32), Activation: relu, Learning Rate: 0.001\n",
      "Average Cross-Validated Accuracy: 0.9657\n",
      "Hidden Layer Sizes: (64, 32), Activation: relu, Learning Rate: 0.01\n",
      "Average Cross-Validated Accuracy: 0.9683\n",
      "Hidden Layer Sizes: (64, 32), Activation: tanh, Learning Rate: 0.001\n",
      "Average Cross-Validated Accuracy: 0.9663\n",
      "Hidden Layer Sizes: (64, 32), Activation: tanh, Learning Rate: 0.01\n",
      "Average Cross-Validated Accuracy: 0.9631\n",
      "Hidden Layer Sizes: (256, 128, 64), Activation: relu, Learning Rate: 0.001\n",
      "Average Cross-Validated Accuracy: 0.9731\n",
      "Hidden Layer Sizes: (256, 128, 64), Activation: relu, Learning Rate: 0.01\n",
      "Average Cross-Validated Accuracy: 0.9762\n",
      "Hidden Layer Sizes: (256, 128, 64), Activation: tanh, Learning Rate: 0.001\n",
      "Average Cross-Validated Accuracy: 0.9738\n",
      "Hidden Layer Sizes: (256, 128, 64), Activation: tanh, Learning Rate: 0.01\n",
      "Average Cross-Validated Accuracy: 0.9749\n"
     ]
    }
   ],
   "source": [
    "for hidden_layer_sizes in hidden_layer_sizes_list:\n",
    "    for activation in activation_list:\n",
    "        for learning_rate_init in learning_rate_init_list:\n",
    "            # 构建MLPClassifier模型\n",
    "            model = MLPClassifier(\n",
    "                hidden_layer_sizes=hidden_layer_sizes,# 隐藏层神经元个数\n",
    "                max_iter=500,# 最大迭代次数\n",
    "                activation=activation,# 激活函数\n",
    "                learning_rate_init=learning_rate_init,# 初始学习率\n",
    "                solver='adam',# 优化器\n",
    "                random_state=42# 随机种子   \n",
    "            )\n",
    "            # 训练模型\n",
    "            model.fit(X_train, y_train)\n",
    "            # 使用交叉验证评估性能\n",
    "            scores = cross_val_score(model, X_train, y_train, cv=5, scoring='accuracy')\n",
    "            avg_accuracy = np.mean(scores)\n",
    "\n",
    "            print(f\"Hidden Layer Sizes: {hidden_layer_sizes}, Activation: {activation}, Learning Rate: {learning_rate_init}\")\n",
    "            print(f\"Average Cross-Validated Accuracy: {avg_accuracy:.4f}\\n\")\n",
    "\n",
    "            # 保存最佳模型\n",
    "            if avg_accuracy > best_accuracy:\n",
    "                best_accuracy = avg_accuracy\n",
    "                best_model = model\n"
   ],
   "metadata": {
    "collapsed": false,
    "ExecuteTime": {
     "end_time": "2023-12-10T12:52:21.982154Z",
     "start_time": "2023-12-10T12:50:25.467361500Z"
    }
   },
   "id": "4b445325333c2616"
  },
  {
   "cell_type": "code",
   "execution_count": 41,
   "outputs": [],
   "source": [
    "y_pred = best_model.predict(X_test)"
   ],
   "metadata": {
    "collapsed": false,
    "ExecuteTime": {
     "end_time": "2023-12-10T12:52:21.987852100Z",
     "start_time": "2023-12-10T12:52:21.980153400Z"
    }
   },
   "id": "9aec3a3bf59dfda"
  },
  {
   "cell_type": "code",
   "execution_count": 42,
   "outputs": [
    {
     "name": "stdout",
     "output_type": "stream",
     "text": [
      "Best Model Test Accuracy: 0.9655\n"
     ]
    }
   ],
   "source": [
    "test_accuracy = accuracy_score(y_test, y_pred)\n",
    "print(f'Best Model Test Accuracy: {test_accuracy:.4f}')"
   ],
   "metadata": {
    "collapsed": false,
    "ExecuteTime": {
     "end_time": "2023-12-10T12:52:21.994451900Z",
     "start_time": "2023-12-10T12:52:21.990852Z"
    }
   },
   "id": "efa38df736bad8e6"
  }
 ],
 "metadata": {
  "kernelspec": {
   "display_name": "Python 3",
   "language": "python",
   "name": "python3"
  },
  "language_info": {
   "codemirror_mode": {
    "name": "ipython",
    "version": 2
   },
   "file_extension": ".py",
   "mimetype": "text/x-python",
   "name": "python",
   "nbconvert_exporter": "python",
   "pygments_lexer": "ipython2",
   "version": "2.7.6"
  }
 },
 "nbformat": 4,
 "nbformat_minor": 5
}
