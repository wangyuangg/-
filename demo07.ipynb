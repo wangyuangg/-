{
 "cells": [
  {
   "cell_type": "code",
   "execution_count": 29,
   "id": "initial_id",
   "metadata": {
    "collapsed": true,
    "ExecuteTime": {
     "end_time": "2023-12-10T05:04:54.788053300Z",
     "start_time": "2023-12-10T05:04:54.785186100Z"
    }
   },
   "outputs": [],
   "source": [
    "import numpy as np\n",
    "import pandas as pd\n",
    "from sklearn.cluster import KMeans\n",
    "from sklearn.preprocessing import StandardScaler\n",
    "from sklearn.metrics import adjusted_rand_score, fowlkes_mallows_score"
   ]
  },
  {
   "cell_type": "code",
   "execution_count": 30,
   "outputs": [],
   "source": [
    "file ='seeds_dataset.txt'\n",
    "columns = ['area', 'perimeter', 'compactness', 'length_of_kernel', 'width_of_kernel', 'asymmetry_coefficient', 'length_of_groove', 'class']\n",
    "data = pd.read_csv(file, sep='\\s+', header=None, names=columns)"
   ],
   "metadata": {
    "collapsed": false,
    "ExecuteTime": {
     "end_time": "2023-12-10T05:04:54.814331600Z",
     "start_time": "2023-12-10T05:04:54.791994400Z"
    }
   },
   "id": "d9895e12e09853b6"
  },
  {
   "cell_type": "code",
   "execution_count": 31,
   "outputs": [],
   "source": [
    "X = data.drop(['class'], axis=1)#提取除了class以外的所有特征\n",
    "y_true = data['class']#提取class作为真实的分类标签"
   ],
   "metadata": {
    "collapsed": false,
    "ExecuteTime": {
     "end_time": "2023-12-10T05:04:54.815365900Z",
     "start_time": "2023-12-10T05:04:54.797507Z"
    }
   },
   "id": "5892d2143a494c53"
  },
  {
   "cell_type": "code",
   "execution_count": 32,
   "outputs": [
    {
     "name": "stderr",
     "output_type": "stream",
     "text": [
      "C:\\ProgramData\\anaconda3\\Lib\\site-packages\\sklearn\\cluster\\_kmeans.py:1412: FutureWarning: The default value of `n_init` will change from 10 to 'auto' in 1.4. Set the value of `n_init` explicitly to suppress the warning\n",
      "  super()._check_params_vs_input(X, default_n_init=10)\n",
      "C:\\ProgramData\\anaconda3\\Lib\\site-packages\\sklearn\\cluster\\_kmeans.py:1436: UserWarning: KMeans is known to have a memory leak on Windows with MKL, when there are less chunks than available threads. You can avoid it by setting the environment variable OMP_NUM_THREADS=1.\n",
      "  warnings.warn(\n"
     ]
    }
   ],
   "source": [
    "kmeans_no_scaling = KMeans(n_clusters=3, random_state=42)\n",
    "y_pred_no_scaling = kmeans_no_scaling.fit_predict(X)"
   ],
   "metadata": {
    "collapsed": false,
    "ExecuteTime": {
     "end_time": "2023-12-10T05:04:54.960733100Z",
     "start_time": "2023-12-10T05:04:54.801855700Z"
    }
   },
   "id": "5b57b73fe2ee85a"
  },
  {
   "cell_type": "code",
   "execution_count": 33,
   "outputs": [],
   "source": [
    "scaler = StandardScaler()\n",
    "X_scaled = scaler.fit_transform(X)"
   ],
   "metadata": {
    "collapsed": false,
    "ExecuteTime": {
     "end_time": "2023-12-10T05:04:54.967985200Z",
     "start_time": "2023-12-10T05:04:54.956447400Z"
    }
   },
   "id": "e7f0fa133fff72ef"
  },
  {
   "cell_type": "code",
   "execution_count": 34,
   "outputs": [],
   "source": [
    "k = 3"
   ],
   "metadata": {
    "collapsed": false,
    "ExecuteTime": {
     "end_time": "2023-12-10T05:04:54.967985200Z",
     "start_time": "2023-12-10T05:04:54.963380100Z"
    }
   },
   "id": "e800d1f05673f8a5"
  },
  {
   "cell_type": "code",
   "execution_count": 35,
   "outputs": [
    {
     "name": "stderr",
     "output_type": "stream",
     "text": [
      "C:\\ProgramData\\anaconda3\\Lib\\site-packages\\sklearn\\cluster\\_kmeans.py:1412: FutureWarning: The default value of `n_init` will change from 10 to 'auto' in 1.4. Set the value of `n_init` explicitly to suppress the warning\n",
      "  super()._check_params_vs_input(X, default_n_init=10)\n",
      "C:\\ProgramData\\anaconda3\\Lib\\site-packages\\sklearn\\cluster\\_kmeans.py:1436: UserWarning: KMeans is known to have a memory leak on Windows with MKL, when there are less chunks than available threads. You can avoid it by setting the environment variable OMP_NUM_THREADS=1.\n",
      "  warnings.warn(\n"
     ]
    }
   ],
   "source": [
    "kmeans = KMeans(n_clusters=k, init='k-means++', random_state=42)\n",
    "y_pred = kmeans.fit_predict(X_scaled)"
   ],
   "metadata": {
    "collapsed": false,
    "ExecuteTime": {
     "end_time": "2023-12-10T05:04:55.108855800Z",
     "start_time": "2023-12-10T05:04:54.965943700Z"
    }
   },
   "id": "b0879246948c3635"
  },
  {
   "cell_type": "code",
   "execution_count": 36,
   "outputs": [
    {
     "name": "stderr",
     "output_type": "stream",
     "text": [
      "C:\\ProgramData\\anaconda3\\Lib\\site-packages\\sklearn\\cluster\\_kmeans.py:1412: FutureWarning: The default value of `n_init` will change from 10 to 'auto' in 1.4. Set the value of `n_init` explicitly to suppress the warning\n",
      "  super()._check_params_vs_input(X, default_n_init=10)\n",
      "C:\\ProgramData\\anaconda3\\Lib\\site-packages\\sklearn\\cluster\\_kmeans.py:1436: UserWarning: KMeans is known to have a memory leak on Windows with MKL, when there are less chunks than available threads. You can avoid it by setting the environment variable OMP_NUM_THREADS=1.\n",
      "  warnings.warn(\n"
     ]
    }
   ],
   "source": [
    "kmeans_scaling = KMeans(n_clusters=3, random_state=42)\n",
    "y_pred_scaling = kmeans_scaling.fit_predict(X_scaled)"
   ],
   "metadata": {
    "collapsed": false,
    "ExecuteTime": {
     "end_time": "2023-12-10T05:04:55.248393700Z",
     "start_time": "2023-12-10T05:04:55.108855800Z"
    }
   },
   "id": "e0ed5d42a09dc390"
  },
  {
   "cell_type": "code",
   "execution_count": 37,
   "outputs": [],
   "source": [
    "ari_no_scaling = adjusted_rand_score(y_true, y_pred_no_scaling)\n",
    "fmi_no_scaling = fowlkes_mallows_score(y_true, y_pred_no_scaling)\n",
    "\n",
    "ari_scaling = adjusted_rand_score(y_true, y_pred_scaling)\n",
    "fmi_scaling = fowlkes_mallows_score(y_true, y_pred_scaling)"
   ],
   "metadata": {
    "collapsed": false,
    "ExecuteTime": {
     "end_time": "2023-12-10T05:04:55.255004Z",
     "start_time": "2023-12-10T05:04:55.246329700Z"
    }
   },
   "id": "f9647de657f1b6fb"
  },
  {
   "cell_type": "code",
   "execution_count": 38,
   "outputs": [
    {
     "name": "stdout",
     "output_type": "stream",
     "text": [
      "ARI Score (No Scaling): 0.7166198557361053\n",
      "FMI Score (No Scaling): 0.8106151670655933\n",
      "\n",
      "ARI Score (With Scaling): 0.7732937360806309\n",
      "FMI Score (With Scaling): 0.8481755834600893\n"
     ]
    }
   ],
   "source": [
    "print(\"ARI Score (No Scaling):\", ari_no_scaling)\n",
    "print(\"FMI Score (No Scaling):\", fmi_no_scaling)\n",
    "print(\"\\nARI Score (With Scaling):\", ari_scaling)\n",
    "print(\"FMI Score (With Scaling):\", fmi_scaling)"
   ],
   "metadata": {
    "collapsed": false,
    "ExecuteTime": {
     "end_time": "2023-12-10T05:04:55.263655900Z",
     "start_time": "2023-12-10T05:04:55.257849500Z"
    }
   },
   "id": "31580fea7694874a"
  },
  {
   "cell_type": "code",
   "execution_count": 38,
   "outputs": [],
   "source": [],
   "metadata": {
    "collapsed": false,
    "ExecuteTime": {
     "end_time": "2023-12-10T05:04:55.263655900Z",
     "start_time": "2023-12-10T05:04:55.262637700Z"
    }
   },
   "id": "e9178f585619e851"
  }
 ],
 "metadata": {
  "kernelspec": {
   "display_name": "Python 3",
   "language": "python",
   "name": "python3"
  },
  "language_info": {
   "codemirror_mode": {
    "name": "ipython",
    "version": 2
   },
   "file_extension": ".py",
   "mimetype": "text/x-python",
   "name": "python",
   "nbconvert_exporter": "python",
   "pygments_lexer": "ipython2",
   "version": "2.7.6"
  }
 },
 "nbformat": 4,
 "nbformat_minor": 5
}
